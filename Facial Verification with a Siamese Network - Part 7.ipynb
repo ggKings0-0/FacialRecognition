{
 "cells": [
  {
   "cell_type": "markdown",
   "metadata": {},
   "source": [
    "# 1. Setup"
   ]
  },
  {
   "cell_type": "markdown",
   "metadata": {},
   "source": [
    "## 1.1 Install Dependencies"
   ]
  },
  {
   "cell_type": "code",
   "execution_count": 1,
   "metadata": {
    "collapsed": true
   },
   "outputs": [
    {
     "name": "stdout",
     "output_type": "stream",
     "text": [
      "Collecting tensorflow==2.4.1\n",
      "  Using cached tensorflow-2.4.1-cp37-cp37m-win_amd64.whl (370.7 MB)\n",
      "Collecting tensorflow-gpu==2.4.1\n",
      "  Using cached tensorflow_gpu-2.4.1-cp37-cp37m-win_amd64.whl (370.7 MB)\n",
      "Collecting opencv-python\n",
      "  Using cached opencv_python-4.5.3.56-cp37-cp37m-win_amd64.whl (34.9 MB)\n",
      "Collecting matplotlib\n",
      "  Using cached matplotlib-3.4.3-cp37-cp37m-win_amd64.whl (7.2 MB)\n",
      "Collecting gast==0.3.3\n",
      "  Using cached gast-0.3.3-py2.py3-none-any.whl (9.7 kB)\n",
      "Collecting termcolor~=1.1.0\n",
      "  Using cached termcolor-1.1.0-py3-none-any.whl\n",
      "Collecting h5py~=2.10.0\n",
      "  Using cached h5py-2.10.0-cp37-cp37m-win_amd64.whl (2.5 MB)\n",
      "Collecting grpcio~=1.32.0\n",
      "  Using cached grpcio-1.32.0-cp37-cp37m-win_amd64.whl (2.5 MB)\n",
      "Collecting keras-preprocessing~=1.1.2\n",
      "  Using cached Keras_Preprocessing-1.1.2-py2.py3-none-any.whl (42 kB)\n",
      "Collecting flatbuffers~=1.12.0\n",
      "  Using cached flatbuffers-1.12-py2.py3-none-any.whl (15 kB)\n",
      "Collecting numpy~=1.19.2\n",
      "  Using cached numpy-1.19.5-cp37-cp37m-win_amd64.whl (13.2 MB)\n",
      "Collecting six~=1.15.0\n",
      "  Using cached six-1.15.0-py2.py3-none-any.whl (10 kB)\n",
      "Collecting wrapt~=1.12.1\n",
      "  Using cached wrapt-1.12.1-cp37-cp37m-win_amd64.whl\n",
      "Collecting protobuf>=3.9.2\n",
      "  Using cached protobuf-3.17.3-cp37-cp37m-win_amd64.whl (909 kB)\n",
      "Collecting google-pasta~=0.2\n",
      "  Using cached google_pasta-0.2.0-py3-none-any.whl (57 kB)\n",
      "Collecting tensorflow-estimator<2.5.0,>=2.4.0\n",
      "  Using cached tensorflow_estimator-2.4.0-py2.py3-none-any.whl (462 kB)\n",
      "Collecting absl-py~=0.10\n",
      "  Using cached absl_py-0.13.0-py3-none-any.whl (132 kB)\n",
      "Collecting opt-einsum~=3.3.0\n",
      "  Using cached opt_einsum-3.3.0-py3-none-any.whl (65 kB)\n",
      "Collecting wheel~=0.35\n",
      "  Using cached wheel-0.37.0-py2.py3-none-any.whl (35 kB)\n",
      "Collecting astunparse~=1.6.3\n",
      "  Using cached astunparse-1.6.3-py2.py3-none-any.whl (12 kB)\n",
      "Collecting tensorboard~=2.4\n",
      "  Using cached tensorboard-2.6.0-py3-none-any.whl (5.6 MB)\n",
      "Collecting typing-extensions~=3.7.4\n",
      "  Using cached typing_extensions-3.7.4.3-py3-none-any.whl (22 kB)\n",
      "Collecting pyparsing>=2.2.1\n",
      "  Using cached pyparsing-2.4.7-py2.py3-none-any.whl (67 kB)\n",
      "Collecting pillow>=6.2.0\n",
      "  Using cached Pillow-8.3.2-cp37-cp37m-win_amd64.whl (3.2 MB)\n",
      "Collecting cycler>=0.10\n",
      "  Using cached cycler-0.10.0-py2.py3-none-any.whl (6.5 kB)\n",
      "Requirement already satisfied: python-dateutil>=2.7 in d:\\youtube\\faceid\\faceid\\lib\\site-packages (from matplotlib) (2.8.2)\n",
      "Collecting kiwisolver>=1.0.1\n",
      "  Using cached kiwisolver-1.3.2-cp37-cp37m-win_amd64.whl (51 kB)\n",
      "Collecting tensorboard-data-server<0.7.0,>=0.6.0\n",
      "  Using cached tensorboard_data_server-0.6.1-py3-none-any.whl (2.4 kB)\n",
      "Collecting requests<3,>=2.21.0\n",
      "  Using cached requests-2.26.0-py2.py3-none-any.whl (62 kB)\n",
      "Collecting markdown>=2.6.8\n",
      "  Using cached Markdown-3.3.4-py3-none-any.whl (97 kB)\n",
      "Collecting google-auth<2,>=1.6.3\n",
      "  Using cached google_auth-1.35.0-py2.py3-none-any.whl (152 kB)\n",
      "Collecting google-auth-oauthlib<0.5,>=0.4.1\n",
      "  Using cached google_auth_oauthlib-0.4.6-py2.py3-none-any.whl (18 kB)\n",
      "Collecting werkzeug>=0.11.15\n",
      "  Using cached Werkzeug-2.0.1-py3-none-any.whl (288 kB)\n",
      "Collecting tensorboard-plugin-wit>=1.6.0\n",
      "  Using cached tensorboard_plugin_wit-1.8.0-py3-none-any.whl (781 kB)\n",
      "Collecting setuptools>=41.0.0\n",
      "  Downloading setuptools-58.0.3-py3-none-any.whl (816 kB)\n",
      "Collecting rsa<5,>=3.1.4\n",
      "  Using cached rsa-4.7.2-py3-none-any.whl (34 kB)\n",
      "Collecting pyasn1-modules>=0.2.1\n",
      "  Using cached pyasn1_modules-0.2.8-py2.py3-none-any.whl (155 kB)\n",
      "Collecting cachetools<5.0,>=2.0.0\n",
      "  Using cached cachetools-4.2.2-py3-none-any.whl (11 kB)\n",
      "Collecting requests-oauthlib>=0.7.0\n",
      "  Using cached requests_oauthlib-1.3.0-py2.py3-none-any.whl (23 kB)\n",
      "Requirement already satisfied: importlib-metadata in d:\\youtube\\faceid\\faceid\\lib\\site-packages (from markdown>=2.6.8->tensorboard~=2.4->tensorflow==2.4.1) (4.8.1)\n",
      "Collecting pyasn1<0.5.0,>=0.4.6\n",
      "  Using cached pyasn1-0.4.8-py2.py3-none-any.whl (77 kB)\n",
      "Collecting certifi>=2017.4.17\n",
      "  Using cached certifi-2021.5.30-py2.py3-none-any.whl (145 kB)\n",
      "Collecting urllib3<1.27,>=1.21.1\n",
      "  Using cached urllib3-1.26.6-py2.py3-none-any.whl (138 kB)\n",
      "Collecting charset-normalizer~=2.0.0\n",
      "  Using cached charset_normalizer-2.0.4-py3-none-any.whl (36 kB)\n",
      "Collecting idna<4,>=2.5\n",
      "  Using cached idna-3.2-py3-none-any.whl (59 kB)\n",
      "Collecting oauthlib>=3.0.0\n",
      "  Using cached oauthlib-3.1.1-py2.py3-none-any.whl (146 kB)\n",
      "Requirement already satisfied: zipp>=0.5 in d:\\youtube\\faceid\\faceid\\lib\\site-packages (from importlib-metadata->markdown>=2.6.8->tensorboard~=2.4->tensorflow==2.4.1) (3.5.0)\n",
      "Installing collected packages: urllib3, pyasn1, idna, charset-normalizer, certifi, typing-extensions, six, setuptools, rsa, requests, pyasn1-modules, oauthlib, cachetools, requests-oauthlib, google-auth, wheel, werkzeug, tensorboard-plugin-wit, tensorboard-data-server, protobuf, numpy, markdown, grpcio, google-auth-oauthlib, absl-py, wrapt, termcolor, tensorflow-estimator, tensorboard, pyparsing, pillow, opt-einsum, kiwisolver, keras-preprocessing, h5py, google-pasta, gast, flatbuffers, cycler, astunparse, tensorflow-gpu, tensorflow, opencv-python, matplotlib\n",
      "  Attempting uninstall: typing-extensions\n",
      "    Found existing installation: typing-extensions 3.10.0.2\n",
      "    Uninstalling typing-extensions-3.10.0.2:\n",
      "      Successfully uninstalled typing-extensions-3.10.0.2\n",
      "  Attempting uninstall: six\n",
      "    Found existing installation: six 1.16.0\n",
      "    Uninstalling six-1.16.0:\n",
      "      Successfully uninstalled six-1.16.0\n",
      "  Attempting uninstall: setuptools\n",
      "    Found existing installation: setuptools 40.8.0\n",
      "    Uninstalling setuptools-40.8.0:\n",
      "      Successfully uninstalled setuptools-40.8.0\n",
      "Successfully installed absl-py-0.13.0 astunparse-1.6.3 cachetools-4.2.2 certifi-2021.5.30 charset-normalizer-2.0.4 cycler-0.10.0 flatbuffers-1.12 gast-0.3.3 google-auth-1.35.0 google-auth-oauthlib-0.4.6 google-pasta-0.2.0 grpcio-1.32.0 h5py-2.10.0 idna-3.2 keras-preprocessing-1.1.2 kiwisolver-1.3.2 markdown-3.3.4 matplotlib-3.4.3 numpy-1.19.5 oauthlib-3.1.1 opencv-python-4.5.3.56 opt-einsum-3.3.0 pillow-8.3.2 protobuf-3.17.3 pyasn1-0.4.8 pyasn1-modules-0.2.8 pyparsing-2.4.7 requests-2.26.0 requests-oauthlib-1.3.0 rsa-4.7.2 setuptools-58.0.3 six-1.15.0 tensorboard-2.6.0 tensorboard-data-server-0.6.1 tensorboard-plugin-wit-1.8.0 tensorflow-2.4.1 tensorflow-estimator-2.4.0 tensorflow-gpu-2.4.1 termcolor-1.1.0 typing-extensions-3.7.4.3 urllib3-1.26.6 werkzeug-2.0.1 wheel-0.37.0 wrapt-1.12.1\n"
     ]
    }
   ],
   "source": [
    "!pip install tensorflow==2.4.1 tensorflow-gpu==2.4.1 opencv-python matplotlib"
   ]
  },
  {
   "cell_type": "markdown",
   "metadata": {},
   "source": [
    "## 1.2 Import Dependencies"
   ]
  },
  {
   "cell_type": "code",
   "execution_count": 1,
   "metadata": {},
   "outputs": [],
   "source": [
    "# Import standard dependencies\n",
    "import cv2\n",
    "import os\n",
    "import random\n",
    "import numpy as np\n",
    "from matplotlib import pyplot as plt"
   ]
  },
  {
   "cell_type": "code",
   "execution_count": 2,
   "metadata": {},
   "outputs": [],
   "source": [
    "# Import tensorflow dependencies - Functional API\n",
    "from tensorflow.keras.models import Model\n",
    "from tensorflow.keras.layers import Layer, Conv2D, Dense, MaxPooling2D, Input, Flatten\n",
    "import tensorflow as tf"
   ]
  },
  {
   "cell_type": "markdown",
   "metadata": {},
   "source": [
    "Random Forest(Not a special)"
   ]
  },
  {
   "cell_type": "code",
   "execution_count": 3,
   "metadata": {},
   "outputs": [],
   "source": [
    "DEFAULT_RANDOM_SEED = 42"
   ]
  },
  {
   "cell_type": "code",
   "execution_count": 4,
   "metadata": {},
   "outputs": [],
   "source": [
    "def set_all_seeds(seed=DEFAULT_RANDOM_SEED):\n",
    "\n",
    "    # python's seeds\n",
    "    random.seed(seed)\n",
    "    os.environ['PYTHONHASHSEED'] = str(seed)\n",
    "    np.random.seed(seed)\n",
    "\n",
    "    # # torch's seeds\n",
    "    # torch.manual_seed(seed)\n",
    "    # torch.cuda.manual_seed(seed)\n",
    "    # torch.backends.cudnn.deterministic = True\n",
    "    # torch.backends.cudnn.benchmark = False\n",
    "\n",
    "    # tensorflow's seed\n",
    "    tf.random.set_seed(seed)\n",
    "\n",
    "set_all_seeds(seed=DEFAULT_RANDOM_SEED)"
   ]
  },
  {
   "cell_type": "markdown",
   "metadata": {},
   "source": [
    "## 1.3 Set GPU Growth"
   ]
  },
  {
   "cell_type": "code",
   "execution_count": 5,
   "metadata": {},
   "outputs": [],
   "source": [
    "# Avoid OOM errors by setting GPU Memory Consumption Growth\n",
    "gpus = tf.config.experimental.list_physical_devices('GPU')\n",
    "for gpu in gpus: \n",
    "    tf.config.experimental.set_memory_growth(gpu, True)"
   ]
  },
  {
   "cell_type": "markdown",
   "metadata": {},
   "source": [
    "## 1.4 Create Folder Structures"
   ]
  },
  {
   "cell_type": "code",
   "execution_count": 8,
   "metadata": {},
   "outputs": [],
   "source": [
    "# Setup paths\n",
    "POS_PATH = os.path.join('data', 'positive')\n",
    "NEG_PATH = os.path.join('data', 'negative')\n",
    "ANC_PATH = os.path.join('data', 'anchor')"
   ]
  },
  {
   "cell_type": "code",
   "execution_count": 9,
   "metadata": {},
   "outputs": [],
   "source": [
    "# Make the directories\n",
    "os.makedirs(POS_PATH)\n",
    "os.makedirs(NEG_PATH)\n",
    "os.makedirs(ANC_PATH)"
   ]
  },
  {
   "cell_type": "markdown",
   "metadata": {},
   "source": [
    "# 2. Collect Positives and Anchors"
   ]
  },
  {
   "cell_type": "markdown",
   "metadata": {},
   "source": [
    "## 2.1 Untar Labelled Faces in the Wild Dataset"
   ]
  },
  {
   "cell_type": "code",
   "execution_count": 10,
   "metadata": {},
   "outputs": [],
   "source": [
    "# http://vis-www.cs.umass.edu/lfw/"
   ]
  },
  {
   "cell_type": "code",
   "execution_count": 11,
   "metadata": {},
   "outputs": [],
   "source": [
    "# Uncompress Tar GZ Labelled Faces in the Wild Dataset\n",
    "!tar -xf lfw.tgz"
   ]
  },
  {
   "cell_type": "code",
   "execution_count": 12,
   "metadata": {},
   "outputs": [],
   "source": [
    "# Move LFW Images to the following repository data/negative\n",
    "for directory in os.listdir('lfw'):\n",
    "    for file in os.listdir(os.path.join('lfw', directory)):\n",
    "        EX_PATH = os.path.join('lfw', directory, file)\n",
    "        NEW_PATH = os.path.join(NEG_PATH, file)\n",
    "        os.replace(EX_PATH, NEW_PATH)"
   ]
  },
  {
   "cell_type": "markdown",
   "metadata": {},
   "source": [
    "## 2.2 Collect Positive and Anchor Classes"
   ]
  },
  {
   "cell_type": "code",
   "execution_count": 13,
   "metadata": {},
   "outputs": [],
   "source": [
    "# Import uuid library to generate unique image names\n",
    "import uuid"
   ]
  },
  {
   "cell_type": "code",
   "execution_count": 14,
   "metadata": {},
   "outputs": [
    {
     "data": {
      "text/plain": [
       "'data\\\\anchor\\\\64e6218f-400c-11ef-a8ec-48e7da5d267e.jpg'"
      ]
     },
     "execution_count": 14,
     "metadata": {},
     "output_type": "execute_result"
    }
   ],
   "source": [
    "os.path.join(ANC_PATH, '{}.jpg'.format(uuid.uuid1()))"
   ]
  },
  {
   "cell_type": "code",
   "execution_count": 15,
   "metadata": {},
   "outputs": [],
   "source": [
    "# Establish a connection to the webcam\n",
    "cap = cv2.VideoCapture(0)\n",
    "while cap.isOpened(): \n",
    "    ret, frame = cap.read()\n",
    "   \n",
    "    # Cut down frame to 250x250px\n",
    "    frame = frame[120:120+250,200:200+250, :]\n",
    "    \n",
    "    # Collect anchors \n",
    "    if cv2.waitKey(1) & 0XFF == ord('a'):\n",
    "        # Create the unique file path \n",
    "        imgname = os.path.join(ANC_PATH, '{}.jpg'.format(uuid.uuid1()))\n",
    "        # Write out anchor image\n",
    "        cv2.imwrite(imgname, frame)\n",
    "    \n",
    "    # Collect positives\n",
    "    if cv2.waitKey(1) & 0XFF == ord('p'):\n",
    "        # Create the unique file path \n",
    "        imgname = os.path.join(POS_PATH, '{}.jpg'.format(uuid.uuid1()))\n",
    "        # Write out positive image\n",
    "        cv2.imwrite(imgname, frame)\n",
    "    \n",
    "    # Show image back to screen\n",
    "    cv2.imshow('Image Collection', frame)\n",
    "    \n",
    "    # Breaking gracefully\n",
    "    if cv2.waitKey(1) & 0XFF == ord('q'):\n",
    "        break\n",
    "        \n",
    "# Release the webcam\n",
    "cap.release()\n",
    "# Close the image show frame\n",
    "cv2.destroyAllWindows()"
   ]
  },
  {
   "cell_type": "code",
   "execution_count": 16,
   "metadata": {},
   "outputs": [
    {
     "data": {
      "text/plain": [
       "<matplotlib.image.AxesImage at 0x27ccdfda810>"
      ]
     },
     "execution_count": 16,
     "metadata": {},
     "output_type": "execute_result"
    },
    {
     "data": {
      "image/png": "[encoded data removed]",
      "text/plain": [
       "<Figure size 640x480 with 1 Axes>"
      ]
     },
     "metadata": {},
     "output_type": "display_data"
    }
   ],
   "source": [
    "plt.imshow(frame[120:120+250,200:200+250, :])"
   ]
  },
  {
   "cell_type": "markdown",
   "metadata": {},
   "source": [
    "# 3. Load and Preprocess Images"
   ]
  },
  {
   "cell_type": "markdown",
   "metadata": {},
   "source": [
    "## 3.1 Get Image Directories"
   ]
  },
  {
   "cell_type": "code",
   "execution_count": 27,
   "metadata": {},
   "outputs": [],
   "source": [
    "anchor = tf.data.Dataset.list_files(ANC_PATH+'\\*.jpg').take(300)\n",
    "positive = tf.data.Dataset.list_files(POS_PATH+'\\*.jpg').take(300)\n",
    "negative = tf.data.Dataset.list_files(NEG_PATH+'\\*.jpg').take(300)"
   ]
  },
  {
   "cell_type": "code",
   "execution_count": 28,
   "metadata": {},
   "outputs": [],
   "source": [
    "dir_test = anchor.as_numpy_iterator()"
   ]
  },
  {
   "cell_type": "code",
   "execution_count": 29,
   "metadata": {},
   "outputs": [
    {
     "name": "stdout",
     "output_type": "stream",
     "text": [
      "b'data\\\\anchor\\\\963aef95-400c-11ef-a997-48e7da5d267e.jpg'\n"
     ]
    }
   ],
   "source": [
    "print(dir_test.next())"
   ]
  },
  {
   "cell_type": "markdown",
   "metadata": {},
   "source": [
    "## 3.2 Preprocessing - Scale and Resize"
   ]
  },
  {
   "cell_type": "code",
   "execution_count": 30,
   "metadata": {},
   "outputs": [],
   "source": [
    "def preprocess(file_path):\n",
    "    \n",
    "    # Read in image from file path\n",
    "    byte_img = tf.io.read_file(file_path)\n",
    "    # Load in the image \n",
    "    img = tf.io.decode_jpeg(byte_img)\n",
    "    \n",
    "    # Preprocessing steps - resizing the image to be 100x100x3\n",
    "    img = tf.image.resize(img, (100,100))\n",
    "    # Scale image to be between 0 and 1 \n",
    "    img = img / 255.0\n",
    "    \n",
    "    # Return image\n",
    "    return img"
   ]
  },
  {
   "cell_type": "code",
   "execution_count": 31,
   "metadata": {
    "scrolled": true
   },
   "outputs": [],
   "source": [
    "img = preprocess('data\\\\anchor\\\\913fc1ee-400c-11ef-8208-48e7da5d267e.jpg')"
   ]
  },
  {
   "cell_type": "code",
   "execution_count": 32,
   "metadata": {},
   "outputs": [
    {
     "data": {
      "text/plain": [
       "1.0"
      ]
     },
     "execution_count": 32,
     "metadata": {},
     "output_type": "execute_result"
    }
   ],
   "source": [
    "img.numpy().max() "
   ]
  },
  {
   "cell_type": "code",
   "execution_count": 33,
   "metadata": {},
   "outputs": [
    {
     "data": {
      "text/plain": [
       "<matplotlib.image.AxesImage at 0x27cd9ac57d0>"
      ]
     },
     "execution_count": 33,
     "metadata": {},
     "output_type": "execute_result"
    },
    {
     "data": {
      "image/png": "[encoded data removed]",
      "text/plain": [
       "<Figure size 640x480 with 1 Axes>"
      ]
     },
     "metadata": {},
     "output_type": "display_data"
    }
   ],
   "source": [
    "plt.imshow(img)"
   ]
  },
  {
   "cell_type": "code",
   "execution_count": 24,
   "metadata": {},
   "outputs": [
    {
     "ename": "NameError",
     "evalue": "name 'dataset' is not defined",
     "output_type": "error",
     "traceback": [
      "\u001b[1;31m---------------------------------------------------------------------------\u001b[0m",
      "\u001b[1;31mNameError\u001b[0m                                 Traceback (most recent call last)",
      "Cell \u001b[1;32mIn[24], line 1\u001b[0m\n\u001b[1;32m----> 1\u001b[0m \u001b[43mdataset\u001b[49m\u001b[38;5;241m.\u001b[39mmap(preprocess)\n",
      "\u001b[1;31mNameError\u001b[0m: name 'dataset' is not defined"
     ]
    }
   ],
   "source": [
    "dataset.map(preprocess)"
   ]
  },
  {
   "cell_type": "markdown",
   "metadata": {},
   "source": [
    "## 3.3 Create Labelled Dataset"
   ]
  },
  {
   "cell_type": "code",
   "execution_count": 34,
   "metadata": {},
   "outputs": [],
   "source": [
    "positives = tf.data.Dataset.zip((anchor, positive, tf.data.Dataset.from_tensor_slices(tf.ones(len(anchor)))))\n",
    "negatives = tf.data.Dataset.zip((anchor, negative, tf.data.Dataset.from_tensor_slices(tf.zeros(len(anchor)))))\n",
    "data = positives.concatenate(negatives)"
   ]
  },
  {
   "cell_type": "code",
   "execution_count": 35,
   "metadata": {},
   "outputs": [],
   "source": [
    "samples = data.as_numpy_iterator()"
   ]
  },
  {
   "cell_type": "code",
   "execution_count": 36,
   "metadata": {},
   "outputs": [],
   "source": [
    "exampple = samples.next()"
   ]
  },
  {
   "cell_type": "code",
   "execution_count": 37,
   "metadata": {},
   "outputs": [
    {
     "data": {
      "text/plain": [
       "(b'data\\\\anchor\\\\907f25d9-400c-11ef-8590-48e7da5d267e.jpg',\n",
       " b'data\\\\positive\\\\901c76b8-400c-11ef-b919-48e7da5d267e.jpg',\n",
       " 1.0)"
      ]
     },
     "execution_count": 37,
     "metadata": {},
     "output_type": "execute_result"
    }
   ],
   "source": [
    "exampple"
   ]
  },
  {
   "cell_type": "markdown",
   "metadata": {},
   "source": [
    "## 3.4 Build Train and Test Partition"
   ]
  },
  {
   "cell_type": "code",
   "execution_count": 38,
   "metadata": {},
   "outputs": [],
   "source": [
    "def preprocess_twin(input_img, validation_img, label):\n",
    "    return(preprocess(input_img), preprocess(validation_img), label)"
   ]
  },
  {
   "cell_type": "code",
   "execution_count": 39,
   "metadata": {},
   "outputs": [],
   "source": [
    "res = preprocess_twin(*exampple)"
   ]
  },
  {
   "cell_type": "code",
   "execution_count": 40,
   "metadata": {},
   "outputs": [
    {
     "data": {
      "text/plain": [
       "<matplotlib.image.AxesImage at 0x27cd9ad4650>"
      ]
     },
     "execution_count": 40,
     "metadata": {},
     "output_type": "execute_result"
    },
    {
     "data": {
      "image/png": "[encoded data removed]",
      "text/plain": [
       "<Figure size 640x480 with 1 Axes>"
      ]
     },
     "metadata": {},
     "output_type": "display_data"
    }
   ],
   "source": [
    "plt.imshow(res[1])"
   ]
  },
  {
   "cell_type": "code",
   "execution_count": 41,
   "metadata": {},
   "outputs": [
    {
     "data": {
      "text/plain": [
       "1.0"
      ]
     },
     "execution_count": 41,
     "metadata": {},
     "output_type": "execute_result"
    }
   ],
   "source": [
    "res[2]"
   ]
  },
  {
   "cell_type": "code",
   "execution_count": 42,
   "metadata": {},
   "outputs": [],
   "source": [
    "# Build dataloader pipeline\n",
    "data = data.map(preprocess_twin)\n",
    "data = data.cache()\n",
    "data = data.shuffle(buffer_size=1024)"
   ]
  },
  {
   "cell_type": "code",
   "execution_count": 43,
   "metadata": {},
   "outputs": [],
   "source": [
    "# Training partition\n",
    "train_data = data.take(round(len(data)*.7))\n",
    "train_data = train_data.batch(16)\n",
    "train_data = train_data.prefetch(8)"
   ]
  },
  {
   "cell_type": "code",
   "execution_count": 44,
   "metadata": {},
   "outputs": [],
   "source": [
    "# Testing partition\n",
    "test_data = data.skip(round(len(data)*.7))\n",
    "test_data = test_data.take(round(len(data)*.3))\n",
    "test_data = test_data.batch(16)\n",
    "test_data = test_data.prefetch(8)"
   ]
  },
  {
   "cell_type": "markdown",
   "metadata": {},
   "source": [
    "# 4. Model Engineering"
   ]
  },
  {
   "cell_type": "markdown",
   "metadata": {},
   "source": [
    "## 4.1 Build Embedding Layer"
   ]
  },
  {
   "cell_type": "code",
   "execution_count": 45,
   "metadata": {},
   "outputs": [],
   "source": [
    "inp = Input(shape=(100,100,3), name='input_image')"
   ]
  },
  {
   "cell_type": "code",
   "execution_count": 46,
   "metadata": {},
   "outputs": [],
   "source": [
    "c1 = Conv2D(64, (10,10), activation='relu')(inp)"
   ]
  },
  {
   "cell_type": "code",
   "execution_count": 47,
   "metadata": {},
   "outputs": [],
   "source": [
    "m1 = MaxPooling2D(64, (2,2), padding='same')(c1)"
   ]
  },
  {
   "cell_type": "code",
   "execution_count": 48,
   "metadata": {},
   "outputs": [],
   "source": [
    "c2 = Conv2D(128, (7,7), activation='relu')(m1)\n",
    "m2 = MaxPooling2D(64, (2,2), padding='same')(c2)"
   ]
  },
  {
   "cell_type": "code",
   "execution_count": 49,
   "metadata": {},
   "outputs": [],
   "source": [
    "c3 = Conv2D(128, (4,4), activation='relu')(m2)\n",
    "m3 = MaxPooling2D(64, (2,2), padding='same')(c3)"
   ]
  },
  {
   "cell_type": "code",
   "execution_count": 50,
   "metadata": {},
   "outputs": [],
   "source": [
    "c4 = Conv2D(256, (4,4), activation='relu')(m3)\n",
    "f1 = Flatten()(c4)\n",
    "d1 = Dense(4096, activation='sigmoid')(f1)"
   ]
  },
  {
   "cell_type": "code",
   "execution_count": 51,
   "metadata": {},
   "outputs": [],
   "source": [
    "mod = Model(inputs=[inp], outputs=[d1], name='embedding')"
   ]
  },
  {
   "cell_type": "code",
   "execution_count": 52,
   "metadata": {},
   "outputs": [
    {
     "name": "stdout",
     "output_type": "stream",
     "text": [
      "Model: \"embedding\"\n",
      "_________________________________________________________________\n",
      " Layer (type)                Output Shape              Param #   \n",
      "=================================================================\n",
      " input_image (InputLayer)    [(None, 100, 100, 3)]     0         \n",
      "                                                                 \n",
      " conv2d (Conv2D)             (None, 91, 91, 64)        19264     \n",
      "                                                                 \n",
      " max_pooling2d (MaxPooling2  (None, 46, 46, 64)        0         \n",
      " D)                                                              \n",
      "                                                                 \n",
      " conv2d_1 (Conv2D)           (None, 40, 40, 128)       401536    \n",
      "                                                                 \n",
      " max_pooling2d_1 (MaxPoolin  (None, 20, 20, 128)       0         \n",
      " g2D)                                                            \n",
      "                                                                 \n",
      " conv2d_2 (Conv2D)           (None, 17, 17, 128)       262272    \n",
      "                                                                 \n",
      " max_pooling2d_2 (MaxPoolin  (None, 9, 9, 128)         0         \n",
      " g2D)                                                            \n",
      "                                                                 \n",
      " conv2d_3 (Conv2D)           (None, 6, 6, 256)         524544    \n",
      "                                                                 \n",
      " flatten (Flatten)           (None, 9216)              0         \n",
      "                                                                 \n",
      " dense (Dense)               (None, 4096)              37752832  \n",
      "                                                                 \n",
      "=================================================================\n",
      "Total params: 38960448 (148.62 MB)\n",
      "Trainable params: 38960448 (148.62 MB)\n",
      "Non-trainable params: 0 (0.00 Byte)\n",
      "_________________________________________________________________\n"
     ]
    }
   ],
   "source": [
    "mod.summary()"
   ]
  },
  {
   "cell_type": "code",
   "execution_count": 53,
   "metadata": {},
   "outputs": [],
   "source": [
    "def make_embedding(): \n",
    "    inp = Input(shape=(100,100,3), name='input_image')\n",
    "    \n",
    "    # First block\n",
    "    c1 = Conv2D(64, (10,10), activation='relu')(inp)\n",
    "    m1 = MaxPooling2D(64, (2,2), padding='same')(c1)\n",
    "    \n",
    "    # Second block\n",
    "    c2 = Conv2D(128, (7,7), activation='relu')(m1)\n",
    "    m2 = MaxPooling2D(64, (2,2), padding='same')(c2)\n",
    "    \n",
    "    # Third block \n",
    "    c3 = Conv2D(128, (4,4), activation='relu')(m2)\n",
    "    m3 = MaxPooling2D(64, (2,2), padding='same')(c3)\n",
    "    \n",
    "    # Final embedding block\n",
    "    c4 = Conv2D(256, (4,4), activation='relu')(m3)\n",
    "    f1 = Flatten()(c4)\n",
    "    d1 = Dense(4096, activation='sigmoid')(f1)\n",
    "    \n",
    "    \n",
    "    return Model(inputs=[inp], outputs=[d1], name='embedding')"
   ]
  },
  {
   "cell_type": "code",
   "execution_count": 54,
   "metadata": {},
   "outputs": [],
   "source": [
    "embedding = make_embedding()"
   ]
  },
  {
   "cell_type": "code",
   "execution_count": 55,
   "metadata": {},
   "outputs": [
    {
     "name": "stdout",
     "output_type": "stream",
     "text": [
      "Model: \"embedding\"\n",
      "_________________________________________________________________\n",
      " Layer (type)                Output Shape              Param #   \n",
      "=================================================================\n",
      " input_image (InputLayer)    [(None, 100, 100, 3)]     0         \n",
      "                                                                 \n",
      " conv2d_4 (Conv2D)           (None, 91, 91, 64)        19264     \n",
      "                                                                 \n",
      " max_pooling2d_3 (MaxPoolin  (None, 46, 46, 64)        0         \n",
      " g2D)                                                            \n",
      "                                                                 \n",
      " conv2d_5 (Conv2D)           (None, 40, 40, 128)       401536    \n",
      "                                                                 \n",
      " max_pooling2d_4 (MaxPoolin  (None, 20, 20, 128)       0         \n",
      " g2D)                                                            \n",
      "                                                                 \n",
      " conv2d_6 (Conv2D)           (None, 17, 17, 128)       262272    \n",
      "                                                                 \n",
      " max_pooling2d_5 (MaxPoolin  (None, 9, 9, 128)         0         \n",
      " g2D)                                                            \n",
      "                                                                 \n",
      " conv2d_7 (Conv2D)           (None, 6, 6, 256)         524544    \n",
      "                                                                 \n",
      " flatten_1 (Flatten)         (None, 9216)              0         \n",
      "                                                                 \n",
      " dense_1 (Dense)             (None, 4096)              37752832  \n",
      "                                                                 \n",
      "=================================================================\n",
      "Total params: 38960448 (148.62 MB)\n",
      "Trainable params: 38960448 (148.62 MB)\n",
      "Non-trainable params: 0 (0.00 Byte)\n",
      "_________________________________________________________________\n"
     ]
    }
   ],
   "source": [
    "embedding.summary()"
   ]
  },
  {
   "cell_type": "markdown",
   "metadata": {},
   "source": [
    "## 4.2 Build Distance Layer"
   ]
  },
  {
   "cell_type": "code",
   "execution_count": 56,
   "metadata": {},
   "outputs": [],
   "source": [
    "# Siamese L1 Distance class\n",
    "class L1Dist(Layer):\n",
    "    \n",
    "    # Init method - inheritance\n",
    "    def __init__(self, **kwargs):\n",
    "        super().__init__()\n",
    "       \n",
    "    # Magic happens here - similarity calculation\n",
    "    def call(self, input_embedding, validation_embedding):\n",
    "        return tf.math.abs(input_embedding - validation_embedding)"
   ]
  },
  {
   "cell_type": "code",
   "execution_count": 57,
   "metadata": {},
   "outputs": [],
   "source": [
    "l1 = L1Dist()"
   ]
  },
  {
   "cell_type": "code",
   "execution_count": 58,
   "metadata": {
    "collapsed": true
   },
   "outputs": [
    {
     "ename": "NameError",
     "evalue": "name 'anchor_embedding' is not defined",
     "output_type": "error",
     "traceback": [
      "\u001b[1;31m---------------------------------------------------------------------------\u001b[0m",
      "\u001b[1;31mNameError\u001b[0m                                 Traceback (most recent call last)",
      "Cell \u001b[1;32mIn[58], line 1\u001b[0m\n\u001b[1;32m----> 1\u001b[0m l1(\u001b[43manchor_embedding\u001b[49m, validation_embedding)\n",
      "\u001b[1;31mNameError\u001b[0m: name 'anchor_embedding' is not defined"
     ]
    }
   ],
   "source": [
    "l1(anchor_embedding, validation_embedding)"
   ]
  },
  {
   "cell_type": "markdown",
   "metadata": {},
   "source": [
    "## 4.3 Make Siamese Model"
   ]
  },
  {
   "cell_type": "code",
   "execution_count": 59,
   "metadata": {},
   "outputs": [],
   "source": [
    "input_image = Input(name='input_img', shape=(100,100,3))\n",
    "validation_image = Input(name='validation_img', shape=(100,100,3))"
   ]
  },
  {
   "cell_type": "code",
   "execution_count": 60,
   "metadata": {},
   "outputs": [],
   "source": [
    "inp_embedding = embedding(input_image)\n",
    "val_embedding = embedding(validation_image)"
   ]
  },
  {
   "cell_type": "code",
   "execution_count": 61,
   "metadata": {},
   "outputs": [],
   "source": [
    "siamese_layer = L1Dist()"
   ]
  },
  {
   "cell_type": "code",
   "execution_count": 62,
   "metadata": {},
   "outputs": [],
   "source": [
    "distances = siamese_layer(inp_embedding, val_embedding)"
   ]
  },
  {
   "cell_type": "code",
   "execution_count": 63,
   "metadata": {},
   "outputs": [],
   "source": [
    "classifier = Dense(1, activation='sigmoid')(distances)"
   ]
  },
  {
   "cell_type": "code",
   "execution_count": 64,
   "metadata": {},
   "outputs": [
    {
     "data": {
      "text/plain": [
       "<KerasTensor: shape=(None, 1) dtype=float32 (created by layer 'dense_2')>"
      ]
     },
     "execution_count": 64,
     "metadata": {},
     "output_type": "execute_result"
    }
   ],
   "source": [
    "classifier"
   ]
  },
  {
   "cell_type": "code",
   "execution_count": 65,
   "metadata": {},
   "outputs": [],
   "source": [
    "siamese_network = Model(inputs=[input_image, validation_image], outputs=classifier, name='SiameseNetwork')"
   ]
  },
  {
   "cell_type": "code",
   "execution_count": 66,
   "metadata": {},
   "outputs": [
    {
     "name": "stdout",
     "output_type": "stream",
     "text": [
      "Model: \"SiameseNetwork\"\n",
      "__________________________________________________________________________________________________\n",
      " Layer (type)                Output Shape                 Param #   Connected to                  \n",
      "==================================================================================================\n",
      " input_img (InputLayer)      [(None, 100, 100, 3)]        0         []                            \n",
      "                                                                                                  \n",
      " validation_img (InputLayer  [(None, 100, 100, 3)]        0         []                            \n",
      " )                                                                                                \n",
      "                                                                                                  \n",
      " embedding (Functional)      (None, 4096)                 3896044   ['input_img[0][0]',           \n",
      "                                                          8          'validation_img[0][0]']      \n",
      "                                                                                                  \n",
      " l1_dist_1 (L1Dist)          (None, 4096)                 0         ['embedding[0][0]',           \n",
      "                                                                     'embedding[1][0]']           \n",
      "                                                                                                  \n",
      " dense_2 (Dense)             (None, 1)                    4097      ['l1_dist_1[0][0]']           \n",
      "                                                                                                  \n",
      "==================================================================================================\n",
      "Total params: 38964545 (148.64 MB)\n",
      "Trainable params: 38964545 (148.64 MB)\n",
      "Non-trainable params: 0 (0.00 Byte)\n",
      "__________________________________________________________________________________________________\n"
     ]
    }
   ],
   "source": [
    "siamese_network.summary()"
   ]
  },
  {
   "cell_type": "code",
   "execution_count": 67,
   "metadata": {},
   "outputs": [],
   "source": [
    "def make_siamese_model(): \n",
    "    \n",
    "    # Anchor image input in the network\n",
    "    input_image = Input(name='input_img', shape=(100,100,3))\n",
    "    \n",
    "    # Validation image in the network \n",
    "    validation_image = Input(name='validation_img', shape=(100,100,3))\n",
    "    \n",
    "    # Combine siamese distance components\n",
    "    siamese_layer = L1Dist()\n",
    "    siamese_layer._name = 'distance'\n",
    "    distances = siamese_layer(embedding(input_image), embedding(validation_image))\n",
    "    \n",
    "    # Classification layer \n",
    "    classifier = Dense(1, activation='sigmoid')(distances)\n",
    "    \n",
    "    return Model(inputs=[input_image, validation_image], outputs=classifier, name='SiameseNetwork')"
   ]
  },
  {
   "cell_type": "code",
   "execution_count": 68,
   "metadata": {},
   "outputs": [],
   "source": [
    "siamese_model = make_siamese_model()"
   ]
  },
  {
   "cell_type": "code",
   "execution_count": 69,
   "metadata": {
    "collapsed": true
   },
   "outputs": [
    {
     "name": "stdout",
     "output_type": "stream",
     "text": [
      "Model: \"SiameseNetwork\"\n",
      "__________________________________________________________________________________________________\n",
      " Layer (type)                Output Shape                 Param #   Connected to                  \n",
      "==================================================================================================\n",
      " input_img (InputLayer)      [(None, 100, 100, 3)]        0         []                            \n",
      "                                                                                                  \n",
      " validation_img (InputLayer  [(None, 100, 100, 3)]        0         []                            \n",
      " )                                                                                                \n",
      "                                                                                                  \n",
      " embedding (Functional)      (None, 4096)                 3896044   ['input_img[0][0]',           \n",
      "                                                          8          'validation_img[0][0]']      \n",
      "                                                                                                  \n",
      " distance (L1Dist)           (None, 4096)                 0         ['embedding[2][0]',           \n",
      "                                                                     'embedding[3][0]']           \n",
      "                                                                                                  \n",
      " dense_3 (Dense)             (None, 1)                    4097      ['distance[0][0]']            \n",
      "                                                                                                  \n",
      "==================================================================================================\n",
      "Total params: 38964545 (148.64 MB)\n",
      "Trainable params: 38964545 (148.64 MB)\n",
      "Non-trainable params: 0 (0.00 Byte)\n",
      "__________________________________________________________________________________________________\n"
     ]
    }
   ],
   "source": [
    "siamese_model.summary()"
   ]
  },
  {
   "cell_type": "markdown",
   "metadata": {},
   "source": [
    "# 5. Training"
   ]
  },
  {
   "cell_type": "markdown",
   "metadata": {},
   "source": [
    "## 5.1 Setup Loss and Optimizer"
   ]
  },
  {
   "cell_type": "code",
   "execution_count": 70,
   "metadata": {},
   "outputs": [],
   "source": [
    "binary_cross_loss = tf.losses.BinaryCrossentropy()"
   ]
  },
  {
   "cell_type": "code",
   "execution_count": 71,
   "metadata": {},
   "outputs": [],
   "source": [
    "opt = tf.keras.optimizers.Adam(1e-4) # 0.0001"
   ]
  },
  {
   "cell_type": "markdown",
   "metadata": {},
   "source": [
    "## 5.2 Establish Checkpoints"
   ]
  },
  {
   "cell_type": "code",
   "execution_count": 72,
   "metadata": {},
   "outputs": [],
   "source": [
    "checkpoint_dir = './training_checkpoints'\n",
    "checkpoint_prefix = os.path.join(checkpoint_dir, 'ckpt')\n",
    "checkpoint = tf.train.Checkpoint(opt=opt, siamese_model=siamese_model)"
   ]
  },
  {
   "cell_type": "markdown",
   "metadata": {},
   "source": [
    "## 5.3 Build Train Step Function"
   ]
  },
  {
   "cell_type": "code",
   "execution_count": 73,
   "metadata": {},
   "outputs": [],
   "source": [
    "test_batch = train_data.as_numpy_iterator()"
   ]
  },
  {
   "cell_type": "code",
   "execution_count": 74,
   "metadata": {},
   "outputs": [],
   "source": [
    "batch_1 = test_batch.next()"
   ]
  },
  {
   "cell_type": "code",
   "execution_count": 75,
   "metadata": {},
   "outputs": [],
   "source": [
    "X = batch_1[:2]"
   ]
  },
  {
   "cell_type": "code",
   "execution_count": 76,
   "metadata": {},
   "outputs": [],
   "source": [
    "y = batch_1[2]"
   ]
  },
  {
   "cell_type": "code",
   "execution_count": 77,
   "metadata": {},
   "outputs": [
    {
     "data": {
      "text/plain": [
       "array([0., 0., 0., 1., 1., 0., 1., 1., 0., 0., 1., 0., 0., 1., 1., 0.],\n",
       "      dtype=float32)"
      ]
     },
     "execution_count": 77,
     "metadata": {},
     "output_type": "execute_result"
    }
   ],
   "source": [
    "y"
   ]
  },
  {
   "cell_type": "code",
   "execution_count": 78,
   "metadata": {},
   "outputs": [
    {
     "name": "stdout",
     "output_type": "stream",
     "text": [
      "\u001b[1;31mInit signature:\u001b[0m\n",
      "\u001b[0mtf\u001b[0m\u001b[1;33m.\u001b[0m\u001b[0mlosses\u001b[0m\u001b[1;33m.\u001b[0m\u001b[0mBinaryCrossentropy\u001b[0m\u001b[1;33m(\u001b[0m\u001b[1;33m\n",
      "\u001b[0m    \u001b[0mfrom_logits\u001b[0m\u001b[1;33m=\u001b[0m\u001b[1;32mFalse\u001b[0m\u001b[1;33m,\u001b[0m\u001b[1;33m\n",
      "\u001b[0m    \u001b[0mlabel_smoothing\u001b[0m\u001b[1;33m=\u001b[0m\u001b[1;36m0.0\u001b[0m\u001b[1;33m,\u001b[0m\u001b[1;33m\n",
      "\u001b[0m    \u001b[0maxis\u001b[0m\u001b[1;33m=\u001b[0m\u001b[1;33m-\u001b[0m\u001b[1;36m1\u001b[0m\u001b[1;33m,\u001b[0m\u001b[1;33m\n",
      "\u001b[0m    \u001b[0mreduction\u001b[0m\u001b[1;33m=\u001b[0m\u001b[1;34m'auto'\u001b[0m\u001b[1;33m,\u001b[0m\u001b[1;33m\n",
      "\u001b[0m    \u001b[0mname\u001b[0m\u001b[1;33m=\u001b[0m\u001b[1;34m'binary_crossentropy'\u001b[0m\u001b[1;33m,\u001b[0m\u001b[1;33m\n",
      "\u001b[0m\u001b[1;33m)\u001b[0m\u001b[1;33m\u001b[0m\u001b[1;33m\u001b[0m\u001b[0m\n",
      "\u001b[1;31mSource:\u001b[0m        \n",
      "\u001b[1;33m@\u001b[0m\u001b[0mkeras_export\u001b[0m\u001b[1;33m(\u001b[0m\u001b[1;34m\"keras.losses.BinaryCrossentropy\"\u001b[0m\u001b[1;33m)\u001b[0m\u001b[1;33m\n",
      "\u001b[0m\u001b[1;32mclass\u001b[0m \u001b[0mBinaryCrossentropy\u001b[0m\u001b[1;33m(\u001b[0m\u001b[0mLossFunctionWrapper\u001b[0m\u001b[1;33m)\u001b[0m\u001b[1;33m:\u001b[0m\u001b[1;33m\n",
      "\u001b[0m    \u001b[1;34m\"\"\"Computes the cross-entropy loss between true labels and predicted labels.\n",
      "\n",
      "    Use this cross-entropy loss for binary (0 or 1) classification applications.\n",
      "    The loss function requires the following inputs:\n",
      "\n",
      "    - `y_true` (true label): This is either 0 or 1.\n",
      "    - `y_pred` (predicted value): This is the model's prediction, i.e, a single\n",
      "      floating-point value which either represents a\n",
      "      [logit](https://en.wikipedia.org/wiki/Logit), (i.e, value in [-inf, inf]\n",
      "      when `from_logits=True`) or a probability (i.e, value in [0., 1.] when\n",
      "      `from_logits=False`).\n",
      "\n",
      "    **Recommended Usage:** (set `from_logits=True`)\n",
      "\n",
      "    With `tf.keras` API:\n",
      "\n",
      "    ```python\n",
      "    model.compile(\n",
      "      loss=tf.keras.losses.BinaryCrossentropy(from_logits=True),\n",
      "      ....\n",
      "    )\n",
      "    ```\n",
      "\n",
      "    As a standalone function:\n",
      "\n",
      "    >>> # Example 1: (batch_size = 1, number of samples = 4)\n",
      "    >>> y_true = [0, 1, 0, 0]\n",
      "    >>> y_pred = [-18.6, 0.51, 2.94, -12.8]\n",
      "    >>> bce = tf.keras.losses.BinaryCrossentropy(from_logits=True)\n",
      "    >>> bce(y_true, y_pred).numpy()\n",
      "    0.865\n",
      "\n",
      "    >>> # Example 2: (batch_size = 2, number of samples = 4)\n",
      "    >>> y_true = [[0, 1], [0, 0]]\n",
      "    >>> y_pred = [[-18.6, 0.51], [2.94, -12.8]]\n",
      "    >>> # Using default 'auto'/'sum_over_batch_size' reduction type.\n",
      "    >>> bce = tf.keras.losses.BinaryCrossentropy(from_logits=True)\n",
      "    >>> bce(y_true, y_pred).numpy()\n",
      "    0.865\n",
      "    >>> # Using 'sample_weight' attribute\n",
      "    >>> bce(y_true, y_pred, sample_weight=[0.8, 0.2]).numpy()\n",
      "    0.243\n",
      "    >>> # Using 'sum' reduction` type.\n",
      "    >>> bce = tf.keras.losses.BinaryCrossentropy(from_logits=True,\n",
      "    ...     reduction=tf.keras.losses.Reduction.SUM)\n",
      "    >>> bce(y_true, y_pred).numpy()\n",
      "    1.730\n",
      "    >>> # Using 'none' reduction type.\n",
      "    >>> bce = tf.keras.losses.BinaryCrossentropy(from_logits=True,\n",
      "    ...     reduction=tf.keras.losses.Reduction.NONE)\n",
      "    >>> bce(y_true, y_pred).numpy()\n",
      "    array([0.235, 1.496], dtype=float32)\n",
      "\n",
      "    **Default Usage:** (set `from_logits=False`)\n",
      "\n",
      "    >>> # Make the following updates to the above \"Recommended Usage\" section\n",
      "    >>> # 1. Set `from_logits=False`\n",
      "    >>> tf.keras.losses.BinaryCrossentropy() # OR ...('from_logits=False')\n",
      "    >>> # 2. Update `y_pred` to use probabilities instead of logits\n",
      "    >>> y_pred = [0.6, 0.3, 0.2, 0.8] # OR [[0.6, 0.3], [0.2, 0.8]]\n",
      "    \"\"\"\u001b[0m\u001b[1;33m\n",
      "\u001b[0m\u001b[1;33m\n",
      "\u001b[0m    \u001b[1;32mdef\u001b[0m \u001b[0m__init__\u001b[0m\u001b[1;33m(\u001b[0m\u001b[1;33m\n",
      "\u001b[0m        \u001b[0mself\u001b[0m\u001b[1;33m,\u001b[0m\u001b[1;33m\n",
      "\u001b[0m        \u001b[0mfrom_logits\u001b[0m\u001b[1;33m=\u001b[0m\u001b[1;32mFalse\u001b[0m\u001b[1;33m,\u001b[0m\u001b[1;33m\n",
      "\u001b[0m        \u001b[0mlabel_smoothing\u001b[0m\u001b[1;33m=\u001b[0m\u001b[1;36m0.0\u001b[0m\u001b[1;33m,\u001b[0m\u001b[1;33m\n",
      "\u001b[0m        \u001b[0maxis\u001b[0m\u001b[1;33m=\u001b[0m\u001b[1;33m-\u001b[0m\u001b[1;36m1\u001b[0m\u001b[1;33m,\u001b[0m\u001b[1;33m\n",
      "\u001b[0m        \u001b[0mreduction\u001b[0m\u001b[1;33m=\u001b[0m\u001b[0mlosses_utils\u001b[0m\u001b[1;33m.\u001b[0m\u001b[0mReductionV2\u001b[0m\u001b[1;33m.\u001b[0m\u001b[0mAUTO\u001b[0m\u001b[1;33m,\u001b[0m\u001b[1;33m\n",
      "\u001b[0m        \u001b[0mname\u001b[0m\u001b[1;33m=\u001b[0m\u001b[1;34m\"binary_crossentropy\"\u001b[0m\u001b[1;33m,\u001b[0m\u001b[1;33m\n",
      "\u001b[0m    \u001b[1;33m)\u001b[0m\u001b[1;33m:\u001b[0m\u001b[1;33m\n",
      "\u001b[0m        \u001b[1;34m\"\"\"Initializes `BinaryCrossentropy` instance.\n",
      "\n",
      "        Args:\n",
      "          from_logits: Whether to interpret `y_pred` as a tensor of\n",
      "            [logit](https://en.wikipedia.org/wiki/Logit) values. By default, we\n",
      "            assume that `y_pred` contains probabilities (i.e., values in [0,\n",
      "            1]).\n",
      "          label_smoothing: Float in [0, 1]. When 0, no smoothing occurs. When >\n",
      "            0, we compute the loss between the predicted labels and a smoothed\n",
      "            version of the true labels, where the smoothing squeezes the labels\n",
      "            towards 0.5.  Larger values of `label_smoothing` correspond to\n",
      "            heavier smoothing.\n",
      "          axis: The axis along which to compute crossentropy (the features\n",
      "            axis).  Defaults to -1.\n",
      "          reduction: Type of `tf.keras.losses.Reduction` to apply to\n",
      "            loss. Default value is `AUTO`. `AUTO` indicates that the reduction\n",
      "            option will be determined by the usage context. For almost all cases\n",
      "            this defaults to `SUM_OVER_BATCH_SIZE`. When used under a\n",
      "            `tf.distribute.Strategy`, except via `Model.compile()` and\n",
      "            `Model.fit()`, using `AUTO` or `SUM_OVER_BATCH_SIZE`\n",
      "            will raise an error. Please see this custom training [tutorial](\n",
      "            https://www.tensorflow.org/tutorials/distribute/custom_training)\n",
      "            for more details.\n",
      "          name: Name for the op. Defaults to 'binary_crossentropy'.\n",
      "        \"\"\"\u001b[0m\u001b[1;33m\n",
      "\u001b[0m        \u001b[0msuper\u001b[0m\u001b[1;33m(\u001b[0m\u001b[1;33m)\u001b[0m\u001b[1;33m.\u001b[0m\u001b[0m__init__\u001b[0m\u001b[1;33m(\u001b[0m\u001b[1;33m\n",
      "\u001b[0m            \u001b[0mbinary_crossentropy\u001b[0m\u001b[1;33m,\u001b[0m\u001b[1;33m\n",
      "\u001b[0m            \u001b[0mname\u001b[0m\u001b[1;33m=\u001b[0m\u001b[0mname\u001b[0m\u001b[1;33m,\u001b[0m\u001b[1;33m\n",
      "\u001b[0m            \u001b[0mreduction\u001b[0m\u001b[1;33m=\u001b[0m\u001b[0mreduction\u001b[0m\u001b[1;33m,\u001b[0m\u001b[1;33m\n",
      "\u001b[0m            \u001b[0mfrom_logits\u001b[0m\u001b[1;33m=\u001b[0m\u001b[0mfrom_logits\u001b[0m\u001b[1;33m,\u001b[0m\u001b[1;33m\n",
      "\u001b[0m            \u001b[0mlabel_smoothing\u001b[0m\u001b[1;33m=\u001b[0m\u001b[0mlabel_smoothing\u001b[0m\u001b[1;33m,\u001b[0m\u001b[1;33m\n",
      "\u001b[0m            \u001b[0maxis\u001b[0m\u001b[1;33m=\u001b[0m\u001b[0maxis\u001b[0m\u001b[1;33m,\u001b[0m\u001b[1;33m\n",
      "\u001b[0m        \u001b[1;33m)\u001b[0m\u001b[1;33m\n",
      "\u001b[0m        \u001b[0mself\u001b[0m\u001b[1;33m.\u001b[0m\u001b[0mfrom_logits\u001b[0m \u001b[1;33m=\u001b[0m \u001b[0mfrom_logits\u001b[0m\u001b[1;33m\u001b[0m\u001b[1;33m\u001b[0m\u001b[0m\n",
      "\u001b[1;31mFile:\u001b[0m           c:\\python\\python311\\lib\\site-packages\\keras\\src\\losses.py\n",
      "\u001b[1;31mType:\u001b[0m           type\n",
      "\u001b[1;31mSubclasses:\u001b[0m     "
     ]
    }
   ],
   "source": [
    "tf.losses.BinaryCrossentropy??"
   ]
  },
  {
   "cell_type": "code",
   "execution_count": 79,
   "metadata": {},
   "outputs": [],
   "source": [
    "@tf.function\n",
    "def train_step(batch):\n",
    "    \n",
    "    # Record all of our operations \n",
    "    with tf.GradientTape() as tape:     \n",
    "        # Get anchor and positive/negative image\n",
    "        X = batch[:2]\n",
    "        # Get label\n",
    "        y = batch[2]\n",
    "        \n",
    "        # Forward pass\n",
    "        yhat = siamese_model(X, training=True)\n",
    "        # Calculate loss\n",
    "        loss = binary_cross_loss(y, yhat)\n",
    "    print(loss)\n",
    "        \n",
    "    # Calculate gradients\n",
    "    grad = tape.gradient(loss, siamese_model.trainable_variables)\n",
    "    \n",
    "    # Calculate updated weights and apply to siamese model\n",
    "    opt.apply_gradients(zip(grad, siamese_model.trainable_variables))\n",
    "    \n",
    "    # Return loss\n",
    "    return loss"
   ]
  },
  {
   "cell_type": "markdown",
   "metadata": {},
   "source": [
    "## 5.4 Build Training Loop"
   ]
  },
  {
   "cell_type": "code",
   "execution_count": 80,
   "metadata": {},
   "outputs": [],
   "source": [
    "def train(data, EPOCHS):\n",
    "    # Loop through epochs\n",
    "    for epoch in range(1, EPOCHS+1):\n",
    "        print('\\n Epoch {}/{}'.format(epoch, EPOCHS))\n",
    "        progbar = tf.keras.utils.Progbar(len(data))\n",
    "        \n",
    "        # Loop through each batch\n",
    "        for idx, batch in enumerate(data):\n",
    "            # Run train step here\n",
    "            train_step(batch)\n",
    "            progbar.update(idx+1)\n",
    "        \n",
    "        # # Save checkpoints\n",
    "        # if epoch % 10 == 0: \n",
    "        #     checkpoint.save(file_prefix=checkpoint_prefix)"
   ]
  },
  {
   "cell_type": "markdown",
   "metadata": {},
   "source": [
    "## 5.5 Train the model"
   ]
  },
  {
   "cell_type": "code",
   "execution_count": 81,
   "metadata": {},
   "outputs": [],
   "source": [
    "EPOCHS = 50"
   ]
  },
  {
   "cell_type": "code",
   "execution_count": 136,
   "metadata": {
    "scrolled": true
   },
   "outputs": [
    {
     "name": "stdout",
     "output_type": "stream",
     "text": [
      "\n",
      " Epoch 1/50\n",
      "3/3 [==============================] - 65s 21s/step\n",
      "\n",
      " Epoch 2/50\n",
      "3/3 [==============================] - 58s 18s/step\n",
      "\n",
      " Epoch 3/50\n",
      "3/3 [==============================] - 59s 19s/step\n",
      "\n",
      " Epoch 4/50\n",
      "3/3 [==============================] - 57s 18s/step\n",
      "\n",
      " Epoch 5/50\n",
      "3/3 [==============================] - 55s 17s/step\n",
      "\n",
      " Epoch 6/50\n",
      "3/3 [==============================] - 55s 17s/step\n",
      "\n",
      " Epoch 7/50\n",
      "3/3 [==============================] - 53s 17s/step\n",
      "\n",
      " Epoch 8/50\n",
      "3/3 [==============================] - 55s 18s/step\n",
      "\n",
      " Epoch 9/50\n",
      "3/3 [==============================] - 58s 18s/step\n",
      "\n",
      " Epoch 10/50\n",
      "3/3 [==============================] - 51s 15s/step\n",
      "\n",
      " Epoch 11/50\n",
      "3/3 [==============================] - 47s 15s/step\n",
      "\n",
      " Epoch 12/50\n",
      "3/3 [==============================] - 47s 15s/step\n",
      "\n",
      " Epoch 13/50\n",
      "3/3 [==============================] - 49s 16s/step\n",
      "\n",
      " Epoch 14/50\n",
      "3/3 [==============================] - 47s 15s/step\n",
      "\n",
      " Epoch 15/50\n",
      "3/3 [==============================] - 48s 15s/step\n",
      "\n",
      " Epoch 16/50\n",
      "3/3 [==============================] - 48s 15s/step\n",
      "\n",
      " Epoch 17/50\n",
      "3/3 [==============================] - 47s 15s/step\n",
      "\n",
      " Epoch 18/50\n",
      "3/3 [==============================] - 48s 15s/step\n",
      "\n",
      " Epoch 19/50\n",
      "3/3 [==============================] - 48s 15s/step\n",
      "\n",
      " Epoch 20/50\n",
      "3/3 [==============================] - 47s 15s/step\n",
      "\n",
      " Epoch 21/50\n",
      "3/3 [==============================] - 47s 15s/step\n",
      "\n",
      " Epoch 22/50\n",
      "3/3 [==============================] - 48s 15s/step\n",
      "\n",
      " Epoch 23/50\n",
      "3/3 [==============================] - 48s 15s/step\n",
      "\n",
      " Epoch 24/50\n",
      "3/3 [==============================] - 48s 15s/step\n",
      "\n",
      " Epoch 25/50\n",
      "3/3 [==============================] - 48s 15s/step\n",
      "\n",
      " Epoch 26/50\n",
      "3/3 [==============================] - 48s 15s/step\n",
      "\n",
      " Epoch 27/50\n",
      "3/3 [==============================] - 47s 15s/step\n",
      "\n",
      " Epoch 28/50\n",
      "3/3 [==============================] - 49s 16s/step\n",
      "\n",
      " Epoch 29/50\n",
      "3/3 [==============================] - 50s 15s/step\n",
      "\n",
      " Epoch 30/50\n",
      "3/3 [==============================] - 47s 15s/step\n",
      "\n",
      " Epoch 31/50\n",
      "3/3 [==============================] - 47s 15s/step\n",
      "\n",
      " Epoch 32/50\n",
      "3/3 [==============================] - 47s 15s/step\n",
      "\n",
      " Epoch 33/50\n",
      "3/3 [==============================] - 47s 15s/step\n",
      "\n",
      " Epoch 34/50\n",
      "3/3 [==============================] - 48s 15s/step\n",
      "\n",
      " Epoch 35/50\n",
      "3/3 [==============================] - 48s 15s/step\n",
      "\n",
      " Epoch 36/50\n",
      "3/3 [==============================] - 48s 15s/step\n",
      "\n",
      " Epoch 37/50\n",
      "3/3 [==============================] - 48s 15s/step\n",
      "\n",
      " Epoch 38/50\n",
      "3/3 [==============================] - 48s 15s/step\n",
      "\n",
      " Epoch 39/50\n",
      "3/3 [==============================] - 47s 15s/step\n",
      "\n",
      " Epoch 40/50\n",
      "3/3 [==============================] - 48s 15s/step\n",
      "\n",
      " Epoch 41/50\n",
      "3/3 [==============================] - 48s 15s/step\n",
      "\n",
      " Epoch 42/50\n",
      "3/3 [==============================] - 48s 15s/step\n",
      "\n",
      " Epoch 43/50\n",
      "3/3 [==============================] - 48s 15s/step\n",
      "\n",
      " Epoch 44/50\n",
      "3/3 [==============================] - 48s 15s/step\n",
      "\n",
      " Epoch 45/50\n",
      "3/3 [==============================] - 48s 15s/step\n",
      "\n",
      " Epoch 46/50\n",
      "3/3 [==============================] - 48s 15s/step\n",
      "\n",
      " Epoch 47/50\n",
      "3/3 [==============================] - 48s 15s/step\n",
      "\n",
      " Epoch 48/50\n",
      "3/3 [==============================] - 48s 15s/step\n",
      "\n",
      " Epoch 49/50\n",
      "3/3 [==============================] - 47s 15s/step\n",
      "\n",
      " Epoch 50/50\n",
      "3/3 [==============================] - 48s 15s/step\n"
     ]
    }
   ],
   "source": [
    "train(train_data, EPOCHS)"
   ]
  },
  {
   "cell_type": "markdown",
   "metadata": {},
   "source": [
    "# 6. Evaluate Model"
   ]
  },
  {
   "cell_type": "markdown",
   "metadata": {},
   "source": [
    "## 6.1 Import Metrics"
   ]
  },
  {
   "cell_type": "code",
   "execution_count": 137,
   "metadata": {},
   "outputs": [],
   "source": [
    "# Import metric calculations\n",
    "from tensorflow.keras.metrics import Precision, Recall"
   ]
  },
  {
   "cell_type": "markdown",
   "metadata": {},
   "source": [
    "## 6.2 Make Predictions"
   ]
  },
  {
   "cell_type": "code",
   "execution_count": 138,
   "metadata": {},
   "outputs": [],
   "source": [
    "# Get a batch of test data\n",
    "test_input, test_val, y_true = test_data.as_numpy_iterator().next()"
   ]
  },
  {
   "cell_type": "code",
   "execution_count": 139,
   "metadata": {},
   "outputs": [
    {
     "name": "stdout",
     "output_type": "stream",
     "text": [
      "1/1 [==============================] - 2s 2s/step\n"
     ]
    },
    {
     "data": {
      "text/plain": [
       "array([[9.9988663e-01],\n",
       "       [1.2078035e-05],\n",
       "       [4.8886868e-05],\n",
       "       [5.2172800e-05],\n",
       "       [4.9480757e-08],\n",
       "       [2.0673683e-07],\n",
       "       [1.3598030e-07],\n",
       "       [9.9940783e-01],\n",
       "       [1.0000000e+00],\n",
       "       [4.6847508e-05],\n",
       "       [9.9992526e-01],\n",
       "       [5.5189111e-09],\n",
       "       [1.0451824e-07],\n",
       "       [1.0000000e+00],\n",
       "       [9.9987692e-01],\n",
       "       [1.2533002e-08]], dtype=float32)"
      ]
     },
     "execution_count": 139,
     "metadata": {},
     "output_type": "execute_result"
    }
   ],
   "source": [
    "# Make predictions\n",
    "y_hat = siamese_model.predict([test_input, test_val])\n",
    "y_hat"
   ]
  },
  {
   "cell_type": "code",
   "execution_count": 140,
   "metadata": {},
   "outputs": [
    {
     "data": {
      "text/plain": [
       "[1, 0, 0, 0, 0, 0, 0, 1, 1, 0, 1, 0, 0, 1, 1, 0]"
      ]
     },
     "execution_count": 140,
     "metadata": {},
     "output_type": "execute_result"
    }
   ],
   "source": [
    "# Post processing the results \n",
    "[1 if prediction > 0.5 else 0 for prediction in y_hat ]"
   ]
  },
  {
   "cell_type": "code",
   "execution_count": 141,
   "metadata": {},
   "outputs": [
    {
     "data": {
      "text/plain": [
       "array([1., 0., 0., 0., 0., 0., 0., 1., 1., 0., 1., 0., 0., 1., 1., 0.],\n",
       "      dtype=float32)"
      ]
     },
     "execution_count": 141,
     "metadata": {},
     "output_type": "execute_result"
    }
   ],
   "source": [
    "y_true"
   ]
  },
  {
   "cell_type": "markdown",
   "metadata": {},
   "source": [
    "## 6.3 Calculate Metrics"
   ]
  },
  {
   "cell_type": "code",
   "execution_count": 142,
   "metadata": {},
   "outputs": [
    {
     "data": {
      "text/plain": [
       "1.0"
      ]
     },
     "execution_count": 142,
     "metadata": {},
     "output_type": "execute_result"
    }
   ],
   "source": [
    "# Creating a metric object \n",
    "m = Recall()\n",
    "\n",
    "# Calculating the recall value \n",
    "m.update_state(y_true, y_hat)\n",
    "\n",
    "# Return Recall Result\n",
    "m.result().numpy()"
   ]
  },
  {
   "cell_type": "code",
   "execution_count": 143,
   "metadata": {},
   "outputs": [
    {
     "data": {
      "text/plain": [
       "1.0"
      ]
     },
     "execution_count": 143,
     "metadata": {},
     "output_type": "execute_result"
    }
   ],
   "source": [
    "# Creating a metric object \n",
    "m = Precision()\n",
    "\n",
    "# Calculating the recall value \n",
    "m.update_state(y_true, y_hat)\n",
    "\n",
    "# Return Recall Result\n",
    "m.result().numpy()"
   ]
  },
  {
   "cell_type": "markdown",
   "metadata": {},
   "source": [
    "## 6.4 Viz Results"
   ]
  },
  {
   "cell_type": "code",
   "execution_count": 144,
   "metadata": {},
   "outputs": [
    {
     "data": {
      "image/png": "[encoded data removed]",
      "text/plain": [
       "<Figure size 1000x800 with 2 Axes>"
      ]
     },
     "metadata": {},
     "output_type": "display_data"
    }
   ],
   "source": [
    "# Set plot size \n",
    "plt.figure(figsize=(10,8))\n",
    "\n",
    "# Set first subplot\n",
    "plt.subplot(1,2,1)\n",
    "plt.imshow(test_input[0])\n",
    "\n",
    "# Set second subplot\n",
    "plt.subplot(1,2,2)\n",
    "plt.imshow(test_val[0])\n",
    "\n",
    "# Renders cleanly\n",
    "plt.show()"
   ]
  },
  {
   "cell_type": "markdown",
   "metadata": {},
   "source": [
    "# 7. Save Model"
   ]
  },
  {
   "cell_type": "code",
   "execution_count": 145,
   "metadata": {},
   "outputs": [
    {
     "name": "stdout",
     "output_type": "stream",
     "text": [
      "WARNING:tensorflow:Compiled the loaded model, but the compiled metrics have yet to be built. `model.compile_metrics` will be empty until you train or evaluate the model.\n"
     ]
    }
   ],
   "source": [
    "# Save weights\n",
    "siamese_model.save('siamesemodel.h5')"
   ]
  },
  {
   "cell_type": "code",
   "execution_count": 146,
   "metadata": {},
   "outputs": [
    {
     "data": {
      "text/plain": [
       "__main__.L1Dist"
      ]
     },
     "execution_count": 146,
     "metadata": {},
     "output_type": "execute_result"
    }
   ],
   "source": [
    "L1Dist"
   ]
  },
  {
   "cell_type": "code",
   "execution_count": 147,
   "metadata": {},
   "outputs": [
    {
     "name": "stdout",
     "output_type": "stream",
     "text": [
      "WARNING:tensorflow:No training configuration found in the save file, so the model was *not* compiled. Compile it manually.\n"
     ]
    }
   ],
   "source": [
    "# Reload model \n",
    "model = tf.keras.models.load_model('siamesemodel.h5', \n",
    "                                   custom_objects={'L1Dist':L1Dist, 'BinaryCrossentropy':tf.losses.BinaryCrossentropy})"
   ]
  },
  {
   "cell_type": "code",
   "execution_count": 148,
   "metadata": {},
   "outputs": [
    {
     "name": "stdout",
     "output_type": "stream",
     "text": [
      "1/1 [==============================] - 2s 2s/step\n"
     ]
    },
    {
     "data": {
      "text/plain": [
       "array([[9.9988663e-01],\n",
       "       [1.2078035e-05],\n",
       "       [4.8886868e-05],\n",
       "       [5.2172800e-05],\n",
       "       [4.9480757e-08],\n",
       "       [2.0673683e-07],\n",
       "       [1.3598030e-07],\n",
       "       [9.9940783e-01],\n",
       "       [1.0000000e+00],\n",
       "       [4.6847508e-05],\n",
       "       [9.9992526e-01],\n",
       "       [5.5189111e-09],\n",
       "       [1.0451824e-07],\n",
       "       [1.0000000e+00],\n",
       "       [9.9987692e-01],\n",
       "       [1.2533002e-08]], dtype=float32)"
      ]
     },
     "execution_count": 148,
     "metadata": {},
     "output_type": "execute_result"
    }
   ],
   "source": [
    "# Make predictions with reloaded model\n",
    "model.predict([test_input, test_val])"
   ]
  },
  {
   "cell_type": "code",
   "execution_count": 150,
   "metadata": {},
   "outputs": [
    {
     "name": "stdout",
     "output_type": "stream",
     "text": [
      "Model: \"SiameseNetwork\"\n",
      "__________________________________________________________________________________________________\n",
      " Layer (type)                Output Shape                 Param #   Connected to                  \n",
      "==================================================================================================\n",
      " input_img (InputLayer)      [(None, 100, 100, 3)]        0         []                            \n",
      "                                                                                                  \n",
      " validation_img (InputLayer  [(None, 100, 100, 3)]        0         []                            \n",
      " )                                                                                                \n",
      "                                                                                                  \n",
      " embedding (Functional)      (None, 4096)                 3896044   ['input_img[0][0]',           \n",
      "                                                          8          'validation_img[0][0]']      \n",
      "                                                                                                  \n",
      " l1_dist_4 (L1Dist)          (None, 4096)                 0         ['embedding[0][0]',           \n",
      "                                                                     'embedding[1][0]']           \n",
      "                                                                                                  \n",
      " dense_3 (Dense)             (None, 1)                    4097      ['l1_dist_4[0][0]']           \n",
      "                                                                                                  \n",
      "==================================================================================================\n",
      "Total params: 38964545 (148.64 MB)\n",
      "Trainable params: 38964545 (148.64 MB)\n",
      "Non-trainable params: 0 (0.00 Byte)\n",
      "__________________________________________________________________________________________________\n"
     ]
    }
   ],
   "source": [
    "# View model summary\n",
    "model.summary()"
   ]
  },
  {
   "cell_type": "markdown",
   "metadata": {},
   "source": [
    "# 8. Real Time Test"
   ]
  },
  {
   "cell_type": "markdown",
   "metadata": {},
   "source": [
    "## 8.1 Verification Function"
   ]
  },
  {
   "cell_type": "code",
   "execution_count": null,
   "metadata": {},
   "outputs": [],
   "source": [
    "application_data\\verification_images"
   ]
  },
  {
   "cell_type": "code",
   "execution_count": 151,
   "metadata": {
    "collapsed": true
   },
   "outputs": [
    {
     "data": {
      "text/plain": [
       "['133d809e-3f52-11ef-bd85-9a0fdbb1e1bc.jpg',\n",
       " '13a9175f-3f52-11ef-9c84-9a0fdbb1e1bc.jpg',\n",
       " '13e1e8ed-3f52-11ef-b39c-9a0fdbb1e1bc.jpg',\n",
       " '15021348-3f52-11ef-bf75-9a0fdbb1e1bc.jpg',\n",
       " '152c4b92-3f52-11ef-a74a-9a0fdbb1e1bc.jpg',\n",
       " '164ea394-3f52-11ef-a7ff-9a0fdbb1e1bc.jpg',\n",
       " '168ed915-3f52-11ef-a698-9a0fdbb1e1bc.jpg',\n",
       " '17f1d988-3f52-11ef-92f8-9a0fdbb1e1bc.jpg',\n",
       " '18a94b07-3f52-11ef-8c16-9a0fdbb1e1bc.jpg',\n",
       " '19420968-3f52-11ef-bdc5-9a0fdbb1e1bc.jpg',\n",
       " '19dd9788-3f52-11ef-8464-9a0fdbb1e1bc.jpg',\n",
       " '19f36435-3f52-11ef-8b8c-9a0fdbb1e1bc.jpg',\n",
       " '1a255c95-3f52-11ef-844c-9a0fdbb1e1bc.jpg',\n",
       " '1a9032d4-3f52-11ef-815f-9a0fdbb1e1bc.jpg',\n",
       " '1b1ef05c-3f52-11ef-8297-9a0fdbb1e1bc.jpg',\n",
       " '1bae7a7a-3f52-11ef-b3f0-9a0fdbb1e1bc.jpg',\n",
       " '1bd68a7c-3f52-11ef-95cd-9a0fdbb1e1bc.jpg',\n",
       " '1c74685f-3f52-11ef-92ed-9a0fdbb1e1bc.jpg',\n",
       " '1ed449ca-3f52-11ef-97a3-9a0fdbb1e1bc.jpg',\n",
       " '1ef09d2d-3f52-11ef-bb60-9a0fdbb1e1bc.jpg',\n",
       " '20d51a66-3f52-11ef-b85a-9a0fdbb1e1bc.jpg',\n",
       " '216131b7-3f52-11ef-b1ae-9a0fdbb1e1bc.jpg',\n",
       " '21fd48c0-3f52-11ef-9b80-9a0fdbb1e1bc.jpg',\n",
       " '22174eb1-3f52-11ef-b884-9a0fdbb1e1bc.jpg',\n",
       " '225c4006-3f52-11ef-8507-9a0fdbb1e1bc.jpg',\n",
       " '226cbf9a-3f52-11ef-9010-9a0fdbb1e1bc.jpg',\n",
       " '22aa663d-3f52-11ef-920e-9a0fdbb1e1bc.jpg',\n",
       " '22d34496-3f52-11ef-8d40-9a0fdbb1e1bc.jpg',\n",
       " '2387a9a5-3f52-11ef-afb8-9a0fdbb1e1bc.jpg',\n",
       " '2389e72e-3f52-11ef-a3ba-9a0fdbb1e1bc.jpg',\n",
       " '23caa4f4-3f52-11ef-bf27-9a0fdbb1e1bc.jpg',\n",
       " '23e51b2f-3f52-11ef-a95d-9a0fdbb1e1bc.jpg',\n",
       " '23e575cb-3f52-11ef-9439-9a0fdbb1e1bc.jpg',\n",
       " '2401e4f5-3f52-11ef-804f-9a0fdbb1e1bc.jpg',\n",
       " '2484209a-3f52-11ef-abe4-9a0fdbb1e1bc.jpg',\n",
       " '24bd6f7f-3f52-11ef-bbe4-9a0fdbb1e1bc.jpg',\n",
       " '24c70f13-3f52-11ef-b0a4-9a0fdbb1e1bc.jpg',\n",
       " '24e39913-3f52-11ef-8f52-9a0fdbb1e1bc.jpg',\n",
       " '25134889-3f52-11ef-bcb7-9a0fdbb1e1bc.jpg',\n",
       " '256fe875-3f52-11ef-b431-9a0fdbb1e1bc.jpg',\n",
       " '25d6b557-3f52-11ef-9755-9a0fdbb1e1bc.jpg',\n",
       " '25f37e38-3f52-11ef-9687-9a0fdbb1e1bc.jpg',\n",
       " '260dd8e9-3f52-11ef-8768-9a0fdbb1e1bc.jpg',\n",
       " '26321652-3f52-11ef-a0ae-9a0fdbb1e1bc.jpg',\n",
       " '26539408-3f52-11ef-9bde-9a0fdbb1e1bc.jpg',\n",
       " '26c09e97-3f52-11ef-a6aa-9a0fdbb1e1bc.jpg',\n",
       " '26e93323-3f52-11ef-9a1e-9a0fdbb1e1bc.jpg',\n",
       " '2705ee49-3f52-11ef-b23d-9a0fdbb1e1bc.jpg',\n",
       " '272272c6-3f52-11ef-a33b-9a0fdbb1e1bc.jpg',\n",
       " '27d089ec-3f52-11ef-9f9d-9a0fdbb1e1bc.jpg',\n",
       " '27fe124a-3f52-11ef-84a6-9a0fdbb1e1bc.jpg',\n",
       " '281acb0f-3f52-11ef-9841-9a0fdbb1e1bc.jpg',\n",
       " '2847f8cc-3f52-11ef-a21e-9a0fdbb1e1bc.jpg',\n",
       " '28674b6a-3f52-11ef-926a-9a0fdbb1e1bc.jpg',\n",
       " '28d72d2a-3f52-11ef-a125-9a0fdbb1e1bc.jpg',\n",
       " '28ec985d-3f52-11ef-ac30-9a0fdbb1e1bc.jpg',\n",
       " '4a62a08a-3f5b-11ef-acdd-9a0fdbb1e1bc.jpg',\n",
       " '4a83dfff-3f5b-11ef-88a4-9a0fdbb1e1bc.jpg',\n",
       " '4aa0236e-3f5b-11ef-8946-9a0fdbb1e1bc.jpg',\n",
       " '4accf60e-3f5b-11ef-ae3f-9a0fdbb1e1bc.jpg',\n",
       " '4bba47af-3f5b-11ef-a395-9a0fdbb1e1bc.jpg',\n",
       " '4da77e32-3f5b-11ef-931b-9a0fdbb1e1bc.jpg',\n",
       " '4ed23fe9-3f5b-11ef-a85e-9a0fdbb1e1bc.jpg',\n",
       " '4fa3a473-3f5b-11ef-a664-9a0fdbb1e1bc.jpg',\n",
       " '4ff43313-3f5b-11ef-825c-9a0fdbb1e1bc.jpg',\n",
       " '5055335d-3f5b-11ef-9ae4-9a0fdbb1e1bc.jpg',\n",
       " '50c6fef1-3f5b-11ef-a878-9a0fdbb1e1bc.jpg',\n",
       " '51826a94-3f5b-11ef-8135-9a0fdbb1e1bc.jpg',\n",
       " '51aa8117-3f5b-11ef-9d8d-9a0fdbb1e1bc.jpg',\n",
       " '51d9f111-3f5b-11ef-9cb5-9a0fdbb1e1bc.jpg',\n",
       " '51f67050-3f5b-11ef-a706-9a0fdbb1e1bc.jpg',\n",
       " '51ffec64-3f5b-11ef-920b-9a0fdbb1e1bc.jpg',\n",
       " '52283963-3f5b-11ef-a882-9a0fdbb1e1bc.jpg',\n",
       " '523fdf43-3f5b-11ef-8069-9a0fdbb1e1bc.jpg',\n",
       " '526a79eb-3f5b-11ef-b443-9a0fdbb1e1bc.jpg',\n",
       " '527d9dc6-3f5b-11ef-8901-9a0fdbb1e1bc.jpg',\n",
       " '53d29162-3f5b-11ef-ac1f-9a0fdbb1e1bc.jpg',\n",
       " '548b1efd-3f5b-11ef-8a09-9a0fdbb1e1bc.jpg',\n",
       " '55b0be17-3f5b-11ef-aea7-9a0fdbb1e1bc.jpg',\n",
       " '567f1936-3f5b-11ef-abdf-9a0fdbb1e1bc.jpg',\n",
       " '56816dc6-3f5b-11ef-bd9e-9a0fdbb1e1bc.jpg',\n",
       " '5781fa4e-3f5b-11ef-968a-9a0fdbb1e1bc.jpg',\n",
       " '57844be0-3f5b-11ef-90d1-9a0fdbb1e1bc.jpg',\n",
       " '58548548-3f5b-11ef-891d-9a0fdbb1e1bc.jpg',\n",
       " '589ba0ee-3f5b-11ef-a324-9a0fdbb1e1bc.jpg',\n",
       " '58befb96-3f5b-11ef-98fa-9a0fdbb1e1bc.jpg',\n",
       " '5900f2d8-3f5b-11ef-94c8-9a0fdbb1e1bc.jpg',\n",
       " '5c393a3f-3f5b-11ef-b77d-9a0fdbb1e1bc.jpg',\n",
       " '5c8eb064-3f5b-11ef-9d31-9a0fdbb1e1bc.jpg',\n",
       " '5cea833e-3f5b-11ef-92fa-9a0fdbb1e1bc.jpg',\n",
       " '5d0b696d-3f5b-11ef-8499-9a0fdbb1e1bc.jpg',\n",
       " '5d8da43f-3f5b-11ef-8fa0-9a0fdbb1e1bc.jpg',\n",
       " 'e89a1674-3f51-11ef-9cda-9a0fdbb1e1bc.jpg',\n",
       " 'e8bb63fb-3f51-11ef-a7fe-9a0fdbb1e1bc.jpg',\n",
       " 'e9113fbb-3f51-11ef-8232-9a0fdbb1e1bc.jpg',\n",
       " 'e9cef101-3f51-11ef-84bf-9a0fdbb1e1bc.jpg',\n",
       " 'e9f23064-3f51-11ef-bb9a-9a0fdbb1e1bc.jpg',\n",
       " 'ebd5c103-3f51-11ef-9574-9a0fdbb1e1bc.jpg',\n",
       " 'ec378125-3f51-11ef-b99a-9a0fdbb1e1bc.jpg',\n",
       " 'ec77b492-3f51-11ef-ab26-9a0fdbb1e1bc.jpg',\n",
       " 'eca2c50d-3f51-11ef-ac03-9a0fdbb1e1bc.jpg',\n",
       " 'ed6f2912-3f51-11ef-bbca-9a0fdbb1e1bc.jpg',\n",
       " 'edf7bc59-3f51-11ef-aa3b-9a0fdbb1e1bc.jpg',\n",
       " 'ee6030ba-3f51-11ef-b70e-9a0fdbb1e1bc.jpg',\n",
       " 'ee8fc31d-3f51-11ef-9057-9a0fdbb1e1bc.jpg',\n",
       " 'ef103f26-3f51-11ef-8e0e-9a0fdbb1e1bc.jpg',\n",
       " 'eff96ef4-3f51-11ef-9790-9a0fdbb1e1bc.jpg',\n",
       " 'f0460066-3f51-11ef-998b-9a0fdbb1e1bc.jpg',\n",
       " 'f0d0c86f-3f51-11ef-8dae-9a0fdbb1e1bc.jpg',\n",
       " 'f1cda189-3f51-11ef-9c83-9a0fdbb1e1bc.jpg']"
      ]
     },
     "execution_count": 151,
     "metadata": {},
     "output_type": "execute_result"
    }
   ],
   "source": [
    "os.listdir(os.path.join('application_data', 'verification_images'))"
   ]
  },
  {
   "cell_type": "code",
   "execution_count": 152,
   "metadata": {},
   "outputs": [
    {
     "data": {
      "text/plain": [
       "'application_data\\\\input_image\\\\input_image.jpg'"
      ]
     },
     "execution_count": 152,
     "metadata": {},
     "output_type": "execute_result"
    }
   ],
   "source": [
    "os.path.join('application_data', 'input_image', 'input_image.jpg')"
   ]
  },
  {
   "cell_type": "code",
   "execution_count": 153,
   "metadata": {
    "collapsed": true
   },
   "outputs": [
    {
     "name": "stdout",
     "output_type": "stream",
     "text": [
      "application_data\\verification_images\\133d809e-3f52-11ef-bd85-9a0fdbb1e1bc.jpg\n",
      "application_data\\verification_images\\13a9175f-3f52-11ef-9c84-9a0fdbb1e1bc.jpg\n",
      "application_data\\verification_images\\13e1e8ed-3f52-11ef-b39c-9a0fdbb1e1bc.jpg\n",
      "application_data\\verification_images\\15021348-3f52-11ef-bf75-9a0fdbb1e1bc.jpg\n",
      "application_data\\verification_images\\152c4b92-3f52-11ef-a74a-9a0fdbb1e1bc.jpg\n",
      "application_data\\verification_images\\164ea394-3f52-11ef-a7ff-9a0fdbb1e1bc.jpg\n",
      "application_data\\verification_images\\168ed915-3f52-11ef-a698-9a0fdbb1e1bc.jpg\n",
      "application_data\\verification_images\\17f1d988-3f52-11ef-92f8-9a0fdbb1e1bc.jpg\n",
      "application_data\\verification_images\\18a94b07-3f52-11ef-8c16-9a0fdbb1e1bc.jpg\n",
      "application_data\\verification_images\\19420968-3f52-11ef-bdc5-9a0fdbb1e1bc.jpg\n",
      "application_data\\verification_images\\19dd9788-3f52-11ef-8464-9a0fdbb1e1bc.jpg\n",
      "application_data\\verification_images\\19f36435-3f52-11ef-8b8c-9a0fdbb1e1bc.jpg\n",
      "application_data\\verification_images\\1a255c95-3f52-11ef-844c-9a0fdbb1e1bc.jpg\n",
      "application_data\\verification_images\\1a9032d4-3f52-11ef-815f-9a0fdbb1e1bc.jpg\n",
      "application_data\\verification_images\\1b1ef05c-3f52-11ef-8297-9a0fdbb1e1bc.jpg\n",
      "application_data\\verification_images\\1bae7a7a-3f52-11ef-b3f0-9a0fdbb1e1bc.jpg\n",
      "application_data\\verification_images\\1bd68a7c-3f52-11ef-95cd-9a0fdbb1e1bc.jpg\n",
      "application_data\\verification_images\\1c74685f-3f52-11ef-92ed-9a0fdbb1e1bc.jpg\n",
      "application_data\\verification_images\\1ed449ca-3f52-11ef-97a3-9a0fdbb1e1bc.jpg\n",
      "application_data\\verification_images\\1ef09d2d-3f52-11ef-bb60-9a0fdbb1e1bc.jpg\n",
      "application_data\\verification_images\\20d51a66-3f52-11ef-b85a-9a0fdbb1e1bc.jpg\n",
      "application_data\\verification_images\\216131b7-3f52-11ef-b1ae-9a0fdbb1e1bc.jpg\n",
      "application_data\\verification_images\\21fd48c0-3f52-11ef-9b80-9a0fdbb1e1bc.jpg\n",
      "application_data\\verification_images\\22174eb1-3f52-11ef-b884-9a0fdbb1e1bc.jpg\n",
      "application_data\\verification_images\\225c4006-3f52-11ef-8507-9a0fdbb1e1bc.jpg\n",
      "application_data\\verification_images\\226cbf9a-3f52-11ef-9010-9a0fdbb1e1bc.jpg\n",
      "application_data\\verification_images\\22aa663d-3f52-11ef-920e-9a0fdbb1e1bc.jpg\n",
      "application_data\\verification_images\\22d34496-3f52-11ef-8d40-9a0fdbb1e1bc.jpg\n",
      "application_data\\verification_images\\2387a9a5-3f52-11ef-afb8-9a0fdbb1e1bc.jpg\n",
      "application_data\\verification_images\\2389e72e-3f52-11ef-a3ba-9a0fdbb1e1bc.jpg\n",
      "application_data\\verification_images\\23caa4f4-3f52-11ef-bf27-9a0fdbb1e1bc.jpg\n",
      "application_data\\verification_images\\23e51b2f-3f52-11ef-a95d-9a0fdbb1e1bc.jpg\n",
      "application_data\\verification_images\\23e575cb-3f52-11ef-9439-9a0fdbb1e1bc.jpg\n",
      "application_data\\verification_images\\2401e4f5-3f52-11ef-804f-9a0fdbb1e1bc.jpg\n",
      "application_data\\verification_images\\2484209a-3f52-11ef-abe4-9a0fdbb1e1bc.jpg\n",
      "application_data\\verification_images\\24bd6f7f-3f52-11ef-bbe4-9a0fdbb1e1bc.jpg\n",
      "application_data\\verification_images\\24c70f13-3f52-11ef-b0a4-9a0fdbb1e1bc.jpg\n",
      "application_data\\verification_images\\24e39913-3f52-11ef-8f52-9a0fdbb1e1bc.jpg\n",
      "application_data\\verification_images\\25134889-3f52-11ef-bcb7-9a0fdbb1e1bc.jpg\n",
      "application_data\\verification_images\\256fe875-3f52-11ef-b431-9a0fdbb1e1bc.jpg\n",
      "application_data\\verification_images\\25d6b557-3f52-11ef-9755-9a0fdbb1e1bc.jpg\n",
      "application_data\\verification_images\\25f37e38-3f52-11ef-9687-9a0fdbb1e1bc.jpg\n",
      "application_data\\verification_images\\260dd8e9-3f52-11ef-8768-9a0fdbb1e1bc.jpg\n",
      "application_data\\verification_images\\26321652-3f52-11ef-a0ae-9a0fdbb1e1bc.jpg\n",
      "application_data\\verification_images\\26539408-3f52-11ef-9bde-9a0fdbb1e1bc.jpg\n",
      "application_data\\verification_images\\26c09e97-3f52-11ef-a6aa-9a0fdbb1e1bc.jpg\n",
      "application_data\\verification_images\\26e93323-3f52-11ef-9a1e-9a0fdbb1e1bc.jpg\n",
      "application_data\\verification_images\\2705ee49-3f52-11ef-b23d-9a0fdbb1e1bc.jpg\n",
      "application_data\\verification_images\\272272c6-3f52-11ef-a33b-9a0fdbb1e1bc.jpg\n",
      "application_data\\verification_images\\27d089ec-3f52-11ef-9f9d-9a0fdbb1e1bc.jpg\n",
      "application_data\\verification_images\\27fe124a-3f52-11ef-84a6-9a0fdbb1e1bc.jpg\n",
      "application_data\\verification_images\\281acb0f-3f52-11ef-9841-9a0fdbb1e1bc.jpg\n",
      "application_data\\verification_images\\2847f8cc-3f52-11ef-a21e-9a0fdbb1e1bc.jpg\n",
      "application_data\\verification_images\\28674b6a-3f52-11ef-926a-9a0fdbb1e1bc.jpg\n",
      "application_data\\verification_images\\28d72d2a-3f52-11ef-a125-9a0fdbb1e1bc.jpg\n",
      "application_data\\verification_images\\28ec985d-3f52-11ef-ac30-9a0fdbb1e1bc.jpg\n",
      "application_data\\verification_images\\4a62a08a-3f5b-11ef-acdd-9a0fdbb1e1bc.jpg\n",
      "application_data\\verification_images\\4a83dfff-3f5b-11ef-88a4-9a0fdbb1e1bc.jpg\n",
      "application_data\\verification_images\\4aa0236e-3f5b-11ef-8946-9a0fdbb1e1bc.jpg\n",
      "application_data\\verification_images\\4accf60e-3f5b-11ef-ae3f-9a0fdbb1e1bc.jpg\n",
      "application_data\\verification_images\\4bba47af-3f5b-11ef-a395-9a0fdbb1e1bc.jpg\n",
      "application_data\\verification_images\\4da77e32-3f5b-11ef-931b-9a0fdbb1e1bc.jpg\n",
      "application_data\\verification_images\\4ed23fe9-3f5b-11ef-a85e-9a0fdbb1e1bc.jpg\n",
      "application_data\\verification_images\\4fa3a473-3f5b-11ef-a664-9a0fdbb1e1bc.jpg\n",
      "application_data\\verification_images\\4ff43313-3f5b-11ef-825c-9a0fdbb1e1bc.jpg\n",
      "application_data\\verification_images\\5055335d-3f5b-11ef-9ae4-9a0fdbb1e1bc.jpg\n",
      "application_data\\verification_images\\50c6fef1-3f5b-11ef-a878-9a0fdbb1e1bc.jpg\n",
      "application_data\\verification_images\\51826a94-3f5b-11ef-8135-9a0fdbb1e1bc.jpg\n",
      "application_data\\verification_images\\51aa8117-3f5b-11ef-9d8d-9a0fdbb1e1bc.jpg\n",
      "application_data\\verification_images\\51d9f111-3f5b-11ef-9cb5-9a0fdbb1e1bc.jpg\n",
      "application_data\\verification_images\\51f67050-3f5b-11ef-a706-9a0fdbb1e1bc.jpg\n",
      "application_data\\verification_images\\51ffec64-3f5b-11ef-920b-9a0fdbb1e1bc.jpg\n",
      "application_data\\verification_images\\52283963-3f5b-11ef-a882-9a0fdbb1e1bc.jpg\n",
      "application_data\\verification_images\\523fdf43-3f5b-11ef-8069-9a0fdbb1e1bc.jpg\n",
      "application_data\\verification_images\\526a79eb-3f5b-11ef-b443-9a0fdbb1e1bc.jpg\n",
      "application_data\\verification_images\\527d9dc6-3f5b-11ef-8901-9a0fdbb1e1bc.jpg\n",
      "application_data\\verification_images\\53d29162-3f5b-11ef-ac1f-9a0fdbb1e1bc.jpg\n",
      "application_data\\verification_images\\548b1efd-3f5b-11ef-8a09-9a0fdbb1e1bc.jpg\n",
      "application_data\\verification_images\\55b0be17-3f5b-11ef-aea7-9a0fdbb1e1bc.jpg\n",
      "application_data\\verification_images\\567f1936-3f5b-11ef-abdf-9a0fdbb1e1bc.jpg\n",
      "application_data\\verification_images\\56816dc6-3f5b-11ef-bd9e-9a0fdbb1e1bc.jpg\n",
      "application_data\\verification_images\\5781fa4e-3f5b-11ef-968a-9a0fdbb1e1bc.jpg\n",
      "application_data\\verification_images\\57844be0-3f5b-11ef-90d1-9a0fdbb1e1bc.jpg\n",
      "application_data\\verification_images\\58548548-3f5b-11ef-891d-9a0fdbb1e1bc.jpg\n",
      "application_data\\verification_images\\589ba0ee-3f5b-11ef-a324-9a0fdbb1e1bc.jpg\n",
      "application_data\\verification_images\\58befb96-3f5b-11ef-98fa-9a0fdbb1e1bc.jpg\n",
      "application_data\\verification_images\\5900f2d8-3f5b-11ef-94c8-9a0fdbb1e1bc.jpg\n",
      "application_data\\verification_images\\5c393a3f-3f5b-11ef-b77d-9a0fdbb1e1bc.jpg\n",
      "application_data\\verification_images\\5c8eb064-3f5b-11ef-9d31-9a0fdbb1e1bc.jpg\n",
      "application_data\\verification_images\\5cea833e-3f5b-11ef-92fa-9a0fdbb1e1bc.jpg\n",
      "application_data\\verification_images\\5d0b696d-3f5b-11ef-8499-9a0fdbb1e1bc.jpg\n",
      "application_data\\verification_images\\5d8da43f-3f5b-11ef-8fa0-9a0fdbb1e1bc.jpg\n",
      "application_data\\verification_images\\e89a1674-3f51-11ef-9cda-9a0fdbb1e1bc.jpg\n",
      "application_data\\verification_images\\e8bb63fb-3f51-11ef-a7fe-9a0fdbb1e1bc.jpg\n",
      "application_data\\verification_images\\e9113fbb-3f51-11ef-8232-9a0fdbb1e1bc.jpg\n",
      "application_data\\verification_images\\e9cef101-3f51-11ef-84bf-9a0fdbb1e1bc.jpg\n",
      "application_data\\verification_images\\e9f23064-3f51-11ef-bb9a-9a0fdbb1e1bc.jpg\n",
      "application_data\\verification_images\\ebd5c103-3f51-11ef-9574-9a0fdbb1e1bc.jpg\n",
      "application_data\\verification_images\\ec378125-3f51-11ef-b99a-9a0fdbb1e1bc.jpg\n",
      "application_data\\verification_images\\ec77b492-3f51-11ef-ab26-9a0fdbb1e1bc.jpg\n",
      "application_data\\verification_images\\eca2c50d-3f51-11ef-ac03-9a0fdbb1e1bc.jpg\n",
      "application_data\\verification_images\\ed6f2912-3f51-11ef-bbca-9a0fdbb1e1bc.jpg\n",
      "application_data\\verification_images\\edf7bc59-3f51-11ef-aa3b-9a0fdbb1e1bc.jpg\n",
      "application_data\\verification_images\\ee6030ba-3f51-11ef-b70e-9a0fdbb1e1bc.jpg\n",
      "application_data\\verification_images\\ee8fc31d-3f51-11ef-9057-9a0fdbb1e1bc.jpg\n",
      "application_data\\verification_images\\ef103f26-3f51-11ef-8e0e-9a0fdbb1e1bc.jpg\n",
      "application_data\\verification_images\\eff96ef4-3f51-11ef-9790-9a0fdbb1e1bc.jpg\n",
      "application_data\\verification_images\\f0460066-3f51-11ef-998b-9a0fdbb1e1bc.jpg\n",
      "application_data\\verification_images\\f0d0c86f-3f51-11ef-8dae-9a0fdbb1e1bc.jpg\n",
      "application_data\\verification_images\\f1cda189-3f51-11ef-9c83-9a0fdbb1e1bc.jpg\n"
     ]
    }
   ],
   "source": [
    "for image in os.listdir(os.path.join('application_data', 'verification_images')):\n",
    "    validation_img = os.path.join('application_data', 'verification_images', image)\n",
    "    print(validation_img)"
   ]
  },
  {
   "cell_type": "code",
   "execution_count": 154,
   "metadata": {},
   "outputs": [],
   "source": [
    "def verify(model, detection_threshold, verification_threshold):\n",
    "    # Build results array\n",
    "    results = []\n",
    "    for image in os.listdir(os.path.join('application_data', 'verification_images')):\n",
    "        input_img = preprocess(os.path.join('application_data', 'input_image', 'input_image.jpg'))\n",
    "        validation_img = preprocess(os.path.join('application_data', 'verification_images', image))\n",
    "        \n",
    "        # Make Predictions \n",
    "        result = model.predict(list(np.expand_dims([input_img, validation_img], axis=1)))\n",
    "        results.append(result)\n",
    "    \n",
    "    # Detection Threshold: Metric above which a prediciton is considered positive \n",
    "    detection = np.sum(np.array(results) > detection_threshold)\n",
    "    \n",
    "    # Verification Threshold: Proportion of positive predictions / total positive samples \n",
    "    verification = detection / len(os.listdir(os.path.join('application_data', 'verification_images'))) \n",
    "    verified = verification > verification_threshold\n",
    "    \n",
    "    return results, verified"
   ]
  },
  {
   "cell_type": "markdown",
   "metadata": {},
   "source": [
    "## 8.2 OpenCV Real Time Verification"
   ]
  },
  {
   "cell_type": "code",
   "execution_count": null,
   "metadata": {},
   "outputs": [],
   "source": [
    "cap = cv2.VideoCapture(0)\n",
    "while cap.isOpened():\n",
    "    ret, frame = cap.read()\n",
    "    frame = frame[120:120+250, 200:200+250, :]\n",
    "    \n",
    "    cv2.imshow('Verification', frame)\n",
    "    \n",
    "    # Verification trigger\n",
    "    if cv2.waitKey(10) & 0xFF == ord('v'):\n",
    "        # Save input image to application_data/input_image folder \n",
    "        cv2.imwrite(os.path.join('application_data', 'input_image', 'input_image.jpg'), frame)\n",
    "        # Run verification\n",
    "        results, verified = verify(model, 0.5, 0.5)\n",
    "        print(verified)\n",
    "    \n",
    "    if cv2.waitKey(10) & 0xFF == ord('q'):\n",
    "        break\n",
    "cap.release()\n",
    "cv2.destroyAllWindows()"
   ]
  },
  {
   "cell_type": "code",
   "execution_count": 132,
   "metadata": {},
   "outputs": [
    {
     "data": {
      "text/plain": [
       "62"
      ]
     },
     "execution_count": 132,
     "metadata": {},
     "output_type": "execute_result"
    }
   ],
   "source": [
    "np.sum(np.squeeze(results) > 0.9)"
   ]
  },
  {
   "cell_type": "code",
   "execution_count": 129,
   "metadata": {},
   "outputs": [
    {
     "data": {
      "text/plain": [
       "0.74"
      ]
     },
     "execution_count": 129,
     "metadata": {},
     "output_type": "execute_result"
    }
   ],
   "source": [
    "37/50"
   ]
  },
  {
   "cell_type": "code",
   "execution_count": null,
   "metadata": {},
   "outputs": [],
   "source": []
  }
 ],
 "metadata": {
  "kernelspec": {
   "display_name": "Python 3",
   "language": "python",
   "name": "python3"
  },
  "language_info": {
   "codemirror_mode": {
    "name": "ipython",
    "version": 3
   },
   "file_extension": ".py",
   "mimetype": "text/x-python",
   "name": "python",
   "nbconvert_exporter": "python",
   "pygments_lexer": "ipython3",
   "version": "3.11.4"
  }
 },
 "nbformat": 4,
 "nbformat_minor": 2
}
